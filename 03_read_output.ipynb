{
 "cells": [
  {
   "cell_type": "markdown",
   "metadata": {
    "editable": true
   },
   "source": [
    "# Load tables from `S3`"
   ]
  },
  {
   "cell_type": "code",
   "execution_count": 1,
   "metadata": {
    "editable": true
   },
   "outputs": [],
   "source": [
    "import configparser\n",
    "from datetime import datetime\n",
    "import os\n",
    "from pyspark.sql import SparkSession\n",
    "from pyspark.sql.functions import udf, col, monotonically_increasing_id\n",
    "from pyspark.sql.functions import year, month, dayofmonth, hour, weekofyear, date_format, dayofweek\n",
    "from pyspark.sql.types import *"
   ]
  },
  {
   "cell_type": "code",
   "execution_count": 2,
   "metadata": {
    "editable": true
   },
   "outputs": [],
   "source": [
    "config = configparser.ConfigParser()\n",
    "config.read_file(open('dl.cfg'))\n",
    "\n",
    "os.environ[\"AWS_ACCESS_KEY_ID\"]= config['AWS']['AWS_ACCESS_KEY_ID']\n",
    "os.environ[\"AWS_SECRET_ACCESS_KEY\"]= config['AWS']['AWS_SECRET_ACCESS_KEY']"
   ]
  },
  {
   "cell_type": "code",
   "execution_count": 3,
   "metadata": {
    "editable": true
   },
   "outputs": [
    {
     "name": "stdout",
     "output_type": "stream",
     "text": [
      "CPU times: user 80.2 ms, sys: 15.4 ms, total: 95.6 ms\n",
      "Wall time: 16.6 s\n"
     ]
    }
   ],
   "source": [
    "%%time\n",
    "spark = SparkSession.builder\\\n",
    "                     .config(\"spark.jars.packages\",\"org.apache.hadoop:hadoop-aws:2.7.0\")\\\n",
    "                     .getOrCreate()\n",
    "spark.conf.set(\"spark.sql.repl.eagerEval.enabled\", True)"
   ]
  },
  {
   "cell_type": "markdown",
   "metadata": {
    "editable": true
   },
   "source": [
    "## Load `songplay` table"
   ]
  },
  {
   "cell_type": "code",
   "execution_count": 12,
   "metadata": {
    "editable": true
   },
   "outputs": [],
   "source": [
    "output_data = \"s3a://salas-bucket/temp-save/\""
   ]
  },
  {
   "cell_type": "code",
   "execution_count": 17,
   "metadata": {
    "editable": true
   },
   "outputs": [
    {
     "name": "stdout",
     "output_type": "stream",
     "text": [
      "CPU times: user 3.14 ms, sys: 0 ns, total: 3.14 ms\n",
      "Wall time: 3.83 s\n"
     ]
    }
   ],
   "source": [
    "%%time\n",
    "sp_df = spark.read.format(\"parquet\").option(\"basePath\", os.path.join(output_data, \"songplays/\")).load(os.path.join(output_data, \"songplays/*/*/\"))"
   ]
  },
  {
   "cell_type": "code",
   "execution_count": 18,
   "metadata": {
    "editable": true
   },
   "outputs": [
    {
     "data": {
      "text/html": [
       "<table border='1'>\n",
       "<tr><th>songplay_id</th><th>start_time</th><th>user_id</th><th>level</th><th>song_id</th><th>artist_id</th><th>session_id</th><th>location</th><th>user_agent</th><th>year</th><th>month</th></tr>\n",
       "<tr><td>0</td><td>2018-11-15 16:19:...</td><td>97</td><td>paid</td><td>SOBLFFE12AF72AA5BA</td><td>ARJNIUY12298900C91</td><td>605</td><td>Lansing-East Lans...</td><td>\"Mozilla/5.0 (X11...</td><td>2018</td><td>11</td></tr>\n",
       "</table>\n"
      ],
      "text/plain": [
       "+-----------+--------------------+-------+-----+------------------+------------------+----------+--------------------+--------------------+----+-----+\n",
       "|songplay_id|          start_time|user_id|level|           song_id|         artist_id|session_id|            location|          user_agent|year|month|\n",
       "+-----------+--------------------+-------+-----+------------------+------------------+----------+--------------------+--------------------+----+-----+\n",
       "|          0|2018-11-15 16:19:...|     97| paid|SOBLFFE12AF72AA5BA|ARJNIUY12298900C91|       605|Lansing-East Lans...|\"Mozilla/5.0 (X11...|2018|   11|\n",
       "+-----------+--------------------+-------+-----+------------------+------------------+----------+--------------------+--------------------+----+-----+"
      ]
     },
     "execution_count": 18,
     "metadata": {},
     "output_type": "execute_result"
    }
   ],
   "source": [
    "sp_df"
   ]
  },
  {
   "cell_type": "markdown",
   "metadata": {
    "editable": true
   },
   "source": [
    "# Load `song` table"
   ]
  },
  {
   "cell_type": "code",
   "execution_count": 20,
   "metadata": {
    "editable": true
   },
   "outputs": [
    {
     "name": "stdout",
     "output_type": "stream",
     "text": [
      "CPU times: user 2.86 ms, sys: 4.42 ms, total: 7.29 ms\n",
      "Wall time: 24.1 s\n"
     ]
    }
   ],
   "source": [
    "%%time\n",
    "so_df = spark.read.format(\"parquet\").option(\"basePath\", os.path.join(output_data, \"songs/\")).load(os.path.join(output_data, \"songs/*/*/\"))"
   ]
  },
  {
   "cell_type": "code",
   "execution_count": 21,
   "metadata": {
    "editable": true
   },
   "outputs": [
    {
     "data": {
      "text/html": [
       "<table border='1'>\n",
       "<tr><th>song_id</th><th>title</th><th>duration</th><th>year</th><th>artist_id</th></tr>\n",
       "<tr><td>SOKTJDS12AF72A25E5</td><td>Drown In My Own T...</td><td>192.522</td><td>0</td><td>ARA23XO1187B9AF18F</td></tr>\n",
       "<tr><td>SOEKAZG12AB018837E</td><td>I'll Slap Your Fa...</td><td>129.85424</td><td>2001</td><td>ARSVTNL1187B992A91</td></tr>\n",
       "<tr><td>SOAFBCP12A8C13CC7D</td><td>King Of Scurf (20...</td><td>301.40036</td><td>1972</td><td>ARTC1LV1187B9A4858</td></tr>\n",
       "<tr><td>SORRNOC12AB017F52B</td><td>The Last Beat Of ...</td><td>337.81506</td><td>2004</td><td>ARSZ7L31187FB4E610</td></tr>\n",
       "<tr><td>SOQPWCR12A6D4FB2A3</td><td>A Poor Recipe For...</td><td>118.07302</td><td>2005</td><td>AR73AIO1187B9AD57B</td></tr>\n",
       "<tr><td>SODZYPO12A8C13A91E</td><td>Burn My Body (Alb...</td><td>177.99791</td><td>0</td><td>AR1C2IX1187B99BF74</td></tr>\n",
       "<tr><td>SOBRKGM12A8C139EF6</td><td>Welcome to the Pl...</td><td>821.05424</td><td>1985</td><td>ARXQBR11187B98A2CC</td></tr>\n",
       "<tr><td>SOERIDA12A6D4F8506</td><td>I Want You (Album...</td><td>192.28689</td><td>2006</td><td>ARBZIN01187FB362CC</td></tr>\n",
       "<tr><td>SOAPERH12A58A787DC</td><td>The One And Only ...</td><td>230.42567</td><td>0</td><td>ARZ5H0P1187B98A1DD</td></tr>\n",
       "<tr><td>SOSMJFC12A8C13DE0C</td><td>Is That All There...</td><td>343.87546</td><td>0</td><td>AR1KTV21187B9ACD72</td></tr>\n",
       "<tr><td>SONRWUU12AF72A4283</td><td>Into The Nightlife</td><td>240.63955</td><td>2008</td><td>ARGE7G11187FB37E05</td></tr>\n",
       "<tr><td>SOOVHYF12A8C134892</td><td>I'll Be Waiting</td><td>304.56118</td><td>1989</td><td>ARCLYBR1187FB53913</td></tr>\n",
       "<tr><td>SOXZYWX12A6310ED0C</td><td>It's About Time</td><td>246.9873</td><td>0</td><td>ARC1IHZ1187FB4E920</td></tr>\n",
       "<tr><td>SOFSOCN12A8C143F5D</td><td>Face the Ashes</td><td>209.60608</td><td>2007</td><td>ARXR32B1187FB57099</td></tr>\n",
       "<tr><td>SOIGICF12A8C141BC5</td><td>Game &amp; Watch</td><td>580.54485</td><td>2004</td><td>AREWD471187FB49873</td></tr>\n",
       "<tr><td>SOFRDWL12A58A7CEF7</td><td>Hit Da Scene</td><td>252.94322</td><td>0</td><td>AR9Q9YC1187FB5609B</td></tr>\n",
       "<tr><td>SOHKNRJ12A6701D1F8</td><td>Drop of Rain</td><td>189.57016</td><td>0</td><td>AR10USD1187B99F3F1</td></tr>\n",
       "<tr><td>SOIGHOD12A8C13B5A1</td><td>Indian Angel</td><td>171.57179</td><td>2004</td><td>ARY589G1187B9A9F4E</td></tr>\n",
       "<tr><td>SOHOZBI12A8C132E3C</td><td>Smash It Up</td><td>195.39546</td><td>2000</td><td>AR0MWD61187B9B2B12</td></tr>\n",
       "<tr><td>SONQPZK12AB0182D84</td><td>Double Wide</td><td>160.20853</td><td>0</td><td>ARKYKXP11F50C47A6A</td></tr>\n",
       "</table>\n",
       "only showing top 20 rows\n"
      ],
      "text/plain": [
       "+------------------+--------------------+---------+----+------------------+\n",
       "|           song_id|               title| duration|year|         artist_id|\n",
       "+------------------+--------------------+---------+----+------------------+\n",
       "|SOKTJDS12AF72A25E5|Drown In My Own T...|  192.522|   0|ARA23XO1187B9AF18F|\n",
       "|SOEKAZG12AB018837E|I'll Slap Your Fa...|129.85424|2001|ARSVTNL1187B992A91|\n",
       "|SOAFBCP12A8C13CC7D|King Of Scurf (20...|301.40036|1972|ARTC1LV1187B9A4858|\n",
       "|SORRNOC12AB017F52B|The Last Beat Of ...|337.81506|2004|ARSZ7L31187FB4E610|\n",
       "|SOQPWCR12A6D4FB2A3|A Poor Recipe For...|118.07302|2005|AR73AIO1187B9AD57B|\n",
       "|SODZYPO12A8C13A91E|Burn My Body (Alb...|177.99791|   0|AR1C2IX1187B99BF74|\n",
       "|SOBRKGM12A8C139EF6|Welcome to the Pl...|821.05424|1985|ARXQBR11187B98A2CC|\n",
       "|SOERIDA12A6D4F8506|I Want You (Album...|192.28689|2006|ARBZIN01187FB362CC|\n",
       "|SOAPERH12A58A787DC|The One And Only ...|230.42567|   0|ARZ5H0P1187B98A1DD|\n",
       "|SOSMJFC12A8C13DE0C|Is That All There...|343.87546|   0|AR1KTV21187B9ACD72|\n",
       "|SONRWUU12AF72A4283|  Into The Nightlife|240.63955|2008|ARGE7G11187FB37E05|\n",
       "|SOOVHYF12A8C134892|     I'll Be Waiting|304.56118|1989|ARCLYBR1187FB53913|\n",
       "|SOXZYWX12A6310ED0C|     It's About Time| 246.9873|   0|ARC1IHZ1187FB4E920|\n",
       "|SOFSOCN12A8C143F5D|      Face the Ashes|209.60608|2007|ARXR32B1187FB57099|\n",
       "|SOIGICF12A8C141BC5|        Game & Watch|580.54485|2004|AREWD471187FB49873|\n",
       "|SOFRDWL12A58A7CEF7|        Hit Da Scene|252.94322|   0|AR9Q9YC1187FB5609B|\n",
       "|SOHKNRJ12A6701D1F8|        Drop of Rain|189.57016|   0|AR10USD1187B99F3F1|\n",
       "|SOIGHOD12A8C13B5A1|        Indian Angel|171.57179|2004|ARY589G1187B9A9F4E|\n",
       "|SOHOZBI12A8C132E3C|         Smash It Up|195.39546|2000|AR0MWD61187B9B2B12|\n",
       "|SONQPZK12AB0182D84|         Double Wide|160.20853|   0|ARKYKXP11F50C47A6A|\n",
       "+------------------+--------------------+---------+----+------------------+\n",
       "only showing top 20 rows"
      ]
     },
     "execution_count": 21,
     "metadata": {},
     "output_type": "execute_result"
    }
   ],
   "source": [
    "so_df"
   ]
  },
  {
   "cell_type": "markdown",
   "metadata": {
    "editable": true
   },
   "source": [
    "## load `artists` table"
   ]
  },
  {
   "cell_type": "code",
   "execution_count": 29,
   "metadata": {
    "editable": true
   },
   "outputs": [
    {
     "name": "stdout",
     "output_type": "stream",
     "text": [
      "CPU times: user 0 ns, sys: 3.74 ms, total: 3.74 ms\n",
      "Wall time: 5.27 s\n"
     ]
    }
   ],
   "source": [
    "%%time\n",
    "ar_df = spark.read.format(\"parquet\").option(\"basePath\", os.path.join(output_data, \"artists/\")).load(os.path.join(output_data, \"artists/*\"))"
   ]
  },
  {
   "cell_type": "code",
   "execution_count": 30,
   "metadata": {
    "editable": true
   },
   "outputs": [
    {
     "data": {
      "text/html": [
       "<table border='1'>\n",
       "<tr><th>artist_id</th><th>artist_name</th><th>artist_location</th><th>artist_latitude</th><th>artist_longitude</th></tr>\n",
       "<tr><td>ARTC1LV1187B9A4858</td><td>The Bonzo Dog Band</td><td>Goldsmith's Colle...</td><td>51.4536</td><td>-0.01802</td></tr>\n",
       "<tr><td>ARA23XO1187B9AF18F</td><td>The Smithereens</td><td>Carteret, New Jersey</td><td>40.57885</td><td>-74.21956</td></tr>\n",
       "<tr><td>AR73AIO1187B9AD57B</td><td>Western Addiction</td><td>San Francisco, CA</td><td>37.77916</td><td>-122.42005</td></tr>\n",
       "<tr><td>ARSVTNL1187B992A91</td><td>Jonathan King</td><td>London, England</td><td>51.50632</td><td>-0.12714</td></tr>\n",
       "<tr><td>AR10USD1187B99F3F1</td><td>Tweeterfriendly M...</td><td>Burlington, Ontar...</td><td>null</td><td>null</td></tr>\n",
       "<tr><td>ARZ5H0P1187B98A1DD</td><td>Snoop Dogg</td><td>Long Beach, CA</td><td>33.76672</td><td>-118.1924</td></tr>\n",
       "<tr><td>ARMJAGH1187FB546F3</td><td>The Box Tops</td><td>Memphis, TN</td><td>35.14968</td><td>-90.04892</td></tr>\n",
       "<tr><td>ARXQBR11187B98A2CC</td><td>Frankie Goes To H...</td><td>Liverpool, England</td><td>null</td><td>null</td></tr>\n",
       "<tr><td>ARCLYBR1187FB53913</td><td>Neal Schon</td><td>San Mateo, CA</td><td>37.54703</td><td>-122.31483</td></tr>\n",
       "<tr><td>ARY589G1187B9A9F4E</td><td>Talkdemonic</td><td>Portland, OR</td><td>45.51179</td><td>-122.67563</td></tr>\n",
       "<tr><td>ARSZ7L31187FB4E610</td><td>Devotchka</td><td>Denver, CO</td><td>39.74001</td><td>-104.99226</td></tr>\n",
       "<tr><td>ARBZIN01187FB362CC</td><td>Paris Hilton</td><td>27</td><td>1.32026</td><td>103.78871</td></tr>\n",
       "<tr><td>AR1KTV21187B9ACD72</td><td>Cristina</td><td>California - LA</td><td>34.05349</td><td>-118.24532</td></tr>\n",
       "<tr><td>AR5LMPY1187FB573FE</td><td>Chaka Khan_ Rufus</td><td>Chicago, IL</td><td>41.88415</td><td>-87.63241</td></tr>\n",
       "<tr><td>AR0MWD61187B9B2B12</td><td>International Noi...</td><td></td><td>null</td><td>null</td></tr>\n",
       "<tr><td>AR9Q9YC1187FB5609B</td><td>Quest_ Pup_ Kevo</td><td>New Jersey</td><td>null</td><td>null</td></tr>\n",
       "<tr><td>ARGE7G11187FB37E05</td><td>Cyndi Lauper</td><td>Brooklyn, NY</td><td>null</td><td>null</td></tr>\n",
       "<tr><td>ARKYKXP11F50C47A6A</td><td>The Supersuckers</td><td></td><td>null</td><td>null</td></tr>\n",
       "<tr><td>AR1C2IX1187B99BF74</td><td>Broken Spindles</td><td></td><td>null</td><td>null</td></tr>\n",
       "<tr><td>ARC1IHZ1187FB4E920</td><td>Jamie Cullum</td><td></td><td>null</td><td>null</td></tr>\n",
       "</table>\n",
       "only showing top 20 rows\n"
      ],
      "text/plain": [
       "+------------------+--------------------+--------------------+---------------+----------------+\n",
       "|         artist_id|         artist_name|     artist_location|artist_latitude|artist_longitude|\n",
       "+------------------+--------------------+--------------------+---------------+----------------+\n",
       "|ARTC1LV1187B9A4858|  The Bonzo Dog Band|Goldsmith's Colle...|        51.4536|        -0.01802|\n",
       "|ARA23XO1187B9AF18F|     The Smithereens|Carteret, New Jersey|       40.57885|       -74.21956|\n",
       "|AR73AIO1187B9AD57B|   Western Addiction|   San Francisco, CA|       37.77916|      -122.42005|\n",
       "|ARSVTNL1187B992A91|       Jonathan King|     London, England|       51.50632|        -0.12714|\n",
       "|AR10USD1187B99F3F1|Tweeterfriendly M...|Burlington, Ontar...|           null|            null|\n",
       "|ARZ5H0P1187B98A1DD|          Snoop Dogg|      Long Beach, CA|       33.76672|       -118.1924|\n",
       "|ARMJAGH1187FB546F3|        The Box Tops|         Memphis, TN|       35.14968|       -90.04892|\n",
       "|ARXQBR11187B98A2CC|Frankie Goes To H...|  Liverpool, England|           null|            null|\n",
       "|ARCLYBR1187FB53913|          Neal Schon|       San Mateo, CA|       37.54703|      -122.31483|\n",
       "|ARY589G1187B9A9F4E|         Talkdemonic|        Portland, OR|       45.51179|      -122.67563|\n",
       "|ARSZ7L31187FB4E610|           Devotchka|          Denver, CO|       39.74001|      -104.99226|\n",
       "|ARBZIN01187FB362CC|        Paris Hilton|                  27|        1.32026|       103.78871|\n",
       "|AR1KTV21187B9ACD72|            Cristina|     California - LA|       34.05349|      -118.24532|\n",
       "|AR5LMPY1187FB573FE|   Chaka Khan_ Rufus|         Chicago, IL|       41.88415|       -87.63241|\n",
       "|AR0MWD61187B9B2B12|International Noi...|                    |           null|            null|\n",
       "|AR9Q9YC1187FB5609B|    Quest_ Pup_ Kevo|          New Jersey|           null|            null|\n",
       "|ARGE7G11187FB37E05|        Cyndi Lauper|        Brooklyn, NY|           null|            null|\n",
       "|ARKYKXP11F50C47A6A|    The Supersuckers|                    |           null|            null|\n",
       "|AR1C2IX1187B99BF74|     Broken Spindles|                    |           null|            null|\n",
       "|ARC1IHZ1187FB4E920|        Jamie Cullum|                    |           null|            null|\n",
       "+------------------+--------------------+--------------------+---------------+----------------+\n",
       "only showing top 20 rows"
      ]
     },
     "execution_count": 30,
     "metadata": {},
     "output_type": "execute_result"
    }
   ],
   "source": [
    "ar_df"
   ]
  },
  {
   "cell_type": "markdown",
   "metadata": {
    "editable": true
   },
   "source": [
    "# Load `users` table"
   ]
  },
  {
   "cell_type": "code",
   "execution_count": 23,
   "metadata": {
    "editable": true
   },
   "outputs": [
    {
     "name": "stdout",
     "output_type": "stream",
     "text": [
      "CPU times: user 4.43 ms, sys: 0 ns, total: 4.43 ms\n",
      "Wall time: 12.4 s\n"
     ]
    }
   ],
   "source": [
    "%%time\n",
    "us_df = spark.read.format(\"parquet\").option(\"basePath\", os.path.join(output_data, \"users/\")).load(os.path.join(output_data, \"users/*\"))"
   ]
  },
  {
   "cell_type": "code",
   "execution_count": 24,
   "metadata": {
    "editable": true
   },
   "outputs": [
    {
     "data": {
      "text/html": [
       "<table border='1'>\n",
       "<tr><th>user_id</th><th>first_name</th><th>last_name</th><th>gender</th><th>level</th></tr>\n",
       "<tr><td>88</td><td>Mohammad</td><td>Rodriguez</td><td>M</td><td>free</td></tr>\n",
       "<tr><td>75</td><td>Joseph</td><td>Gutierrez</td><td>M</td><td>free</td></tr>\n",
       "<tr><td>69</td><td>Anabelle</td><td>Simpson</td><td>F</td><td>free</td></tr>\n",
       "<tr><td>29</td><td>Jacqueline</td><td>Lynch</td><td>F</td><td>free</td></tr>\n",
       "<tr><td>68</td><td>Jordan</td><td>Rodriguez</td><td>F</td><td>free</td></tr>\n",
       "<tr><td>2</td><td>Jizelle</td><td>Benjamin</td><td>F</td><td>free</td></tr>\n",
       "<tr><td>61</td><td>Samuel</td><td>Gonzalez</td><td>M</td><td>free</td></tr>\n",
       "<tr><td>14</td><td>Theodore</td><td>Harris</td><td>M</td><td>free</td></tr>\n",
       "<tr><td>40</td><td>Tucker</td><td>Garrison</td><td>M</td><td>free</td></tr>\n",
       "<tr><td>52</td><td>Theodore</td><td>Smith</td><td>M</td><td>free</td></tr>\n",
       "<tr><td>17</td><td>Makinley</td><td>Jones</td><td>F</td><td>free</td></tr>\n",
       "<tr><td>100</td><td>Adler</td><td>Barrera</td><td>M</td><td>free</td></tr>\n",
       "<tr><td>12</td><td>Austin</td><td>Rosales</td><td>M</td><td>free</td></tr>\n",
       "<tr><td>53</td><td>Celeste</td><td>Williams</td><td>F</td><td>free</td></tr>\n",
       "<tr><td>56</td><td>Cienna</td><td>Freeman</td><td>F</td><td>free</td></tr>\n",
       "<tr><td>88</td><td>Mohammad</td><td>Rodriguez</td><td>M</td><td>paid</td></tr>\n",
       "<tr><td>73</td><td>Jacob</td><td>Klein</td><td>M</td><td>paid</td></tr>\n",
       "<tr><td>38</td><td>Gianna</td><td>Jones</td><td>F</td><td>free</td></tr>\n",
       "<tr><td>36</td><td>Matthew</td><td>Jones</td><td>M</td><td>free</td></tr>\n",
       "<tr><td>77</td><td>Magdalene</td><td>Herman</td><td>F</td><td>free</td></tr>\n",
       "</table>\n",
       "only showing top 20 rows\n"
      ],
      "text/plain": [
       "+-------+----------+---------+------+-----+\n",
       "|user_id|first_name|last_name|gender|level|\n",
       "+-------+----------+---------+------+-----+\n",
       "|     88|  Mohammad|Rodriguez|     M| free|\n",
       "|     75|    Joseph|Gutierrez|     M| free|\n",
       "|     69|  Anabelle|  Simpson|     F| free|\n",
       "|     29|Jacqueline|    Lynch|     F| free|\n",
       "|     68|    Jordan|Rodriguez|     F| free|\n",
       "|      2|   Jizelle| Benjamin|     F| free|\n",
       "|     61|    Samuel| Gonzalez|     M| free|\n",
       "|     14|  Theodore|   Harris|     M| free|\n",
       "|     40|    Tucker| Garrison|     M| free|\n",
       "|     52|  Theodore|    Smith|     M| free|\n",
       "|     17|  Makinley|    Jones|     F| free|\n",
       "|    100|     Adler|  Barrera|     M| free|\n",
       "|     12|    Austin|  Rosales|     M| free|\n",
       "|     53|   Celeste| Williams|     F| free|\n",
       "|     56|    Cienna|  Freeman|     F| free|\n",
       "|     88|  Mohammad|Rodriguez|     M| paid|\n",
       "|     73|     Jacob|    Klein|     M| paid|\n",
       "|     38|    Gianna|    Jones|     F| free|\n",
       "|     36|   Matthew|    Jones|     M| free|\n",
       "|     77| Magdalene|   Herman|     F| free|\n",
       "+-------+----------+---------+------+-----+\n",
       "only showing top 20 rows"
      ]
     },
     "execution_count": 24,
     "metadata": {},
     "output_type": "execute_result"
    }
   ],
   "source": [
    "us_df"
   ]
  },
  {
   "cell_type": "markdown",
   "metadata": {
    "editable": true
   },
   "source": [
    "# load `time table`"
   ]
  },
  {
   "cell_type": "code",
   "execution_count": 31,
   "metadata": {
    "editable": true
   },
   "outputs": [],
   "source": [
    "tm_df = spark.read.format(\"parquet\").option(\"basePath\", os.path.join(output_data, \"time_table/\")).load(os.path.join(output_data, \"time_table/*/*/\"))"
   ]
  },
  {
   "cell_type": "code",
   "execution_count": 32,
   "metadata": {
    "editable": true
   },
   "outputs": [
    {
     "data": {
      "text/html": [
       "<table border='1'>\n",
       "<tr><th>ts</th><th>start_time</th><th>hour</th><th>day</th><th>week</th><th>weekday</th><th>year</th><th>month</th></tr>\n",
       "<tr><td>1542299400796</td><td>2018-11-15 16:30:...</td><td>16</td><td>15</td><td>46</td><td>5</td><td>2018</td><td>11</td></tr>\n",
       "<tr><td>1542302304796</td><td>2018-11-15 17:18:...</td><td>17</td><td>15</td><td>46</td><td>5</td><td>2018</td><td>11</td></tr>\n",
       "<tr><td>1542313156796</td><td>2018-11-15 20:19:...</td><td>20</td><td>15</td><td>46</td><td>5</td><td>2018</td><td>11</td></tr>\n",
       "<tr><td>1542318492796</td><td>2018-11-15 21:48:...</td><td>21</td><td>15</td><td>46</td><td>5</td><td>2018</td><td>11</td></tr>\n",
       "<tr><td>1542828783796</td><td>2018-11-21 19:33:...</td><td>19</td><td>21</td><td>47</td><td>4</td><td>2018</td><td>11</td></tr>\n",
       "<tr><td>1542834185796</td><td>2018-11-21 21:03:...</td><td>21</td><td>21</td><td>47</td><td>4</td><td>2018</td><td>11</td></tr>\n",
       "<tr><td>1542842644796</td><td>2018-11-21 23:24:...</td><td>23</td><td>21</td><td>47</td><td>4</td><td>2018</td><td>11</td></tr>\n",
       "<tr><td>1542175935796</td><td>2018-11-14 06:12:...</td><td>6</td><td>14</td><td>46</td><td>4</td><td>2018</td><td>11</td></tr>\n",
       "<tr><td>1542193206796</td><td>2018-11-14 11:00:...</td><td>11</td><td>14</td><td>46</td><td>4</td><td>2018</td><td>11</td></tr>\n",
       "<tr><td>1542215827796</td><td>2018-11-14 17:17:...</td><td>17</td><td>14</td><td>46</td><td>4</td><td>2018</td><td>11</td></tr>\n",
       "<tr><td>1542227379796</td><td>2018-11-14 20:29:...</td><td>20</td><td>14</td><td>46</td><td>4</td><td>2018</td><td>11</td></tr>\n",
       "<tr><td>1543403344796</td><td>2018-11-28 11:09:...</td><td>11</td><td>28</td><td>48</td><td>4</td><td>2018</td><td>11</td></tr>\n",
       "<tr><td>1543430935796</td><td>2018-11-28 18:48:...</td><td>18</td><td>28</td><td>48</td><td>4</td><td>2018</td><td>11</td></tr>\n",
       "<tr><td>1541440975796</td><td>2018-11-05 18:02:...</td><td>18</td><td>5</td><td>45</td><td>2</td><td>2018</td><td>11</td></tr>\n",
       "<tr><td>1542091623796</td><td>2018-11-13 06:47:...</td><td>6</td><td>13</td><td>46</td><td>3</td><td>2018</td><td>11</td></tr>\n",
       "<tr><td>1542138403796</td><td>2018-11-13 19:46:...</td><td>19</td><td>13</td><td>46</td><td>3</td><td>2018</td><td>11</td></tr>\n",
       "<tr><td>1542363794796</td><td>2018-11-16 10:23:...</td><td>10</td><td>16</td><td>46</td><td>6</td><td>2018</td><td>11</td></tr>\n",
       "<tr><td>1542369164796</td><td>2018-11-16 11:52:...</td><td>11</td><td>16</td><td>46</td><td>6</td><td>2018</td><td>11</td></tr>\n",
       "<tr><td>1542378072796</td><td>2018-11-16 14:21:...</td><td>14</td><td>16</td><td>46</td><td>6</td><td>2018</td><td>11</td></tr>\n",
       "<tr><td>1542680132796</td><td>2018-11-20 02:15:...</td><td>2</td><td>20</td><td>47</td><td>3</td><td>2018</td><td>11</td></tr>\n",
       "</table>\n",
       "only showing top 20 rows\n"
      ],
      "text/plain": [
       "+-------------+--------------------+----+---+----+-------+----+-----+\n",
       "|           ts|          start_time|hour|day|week|weekday|year|month|\n",
       "+-------------+--------------------+----+---+----+-------+----+-----+\n",
       "|1542299400796|2018-11-15 16:30:...|  16| 15|  46|      5|2018|   11|\n",
       "|1542302304796|2018-11-15 17:18:...|  17| 15|  46|      5|2018|   11|\n",
       "|1542313156796|2018-11-15 20:19:...|  20| 15|  46|      5|2018|   11|\n",
       "|1542318492796|2018-11-15 21:48:...|  21| 15|  46|      5|2018|   11|\n",
       "|1542828783796|2018-11-21 19:33:...|  19| 21|  47|      4|2018|   11|\n",
       "|1542834185796|2018-11-21 21:03:...|  21| 21|  47|      4|2018|   11|\n",
       "|1542842644796|2018-11-21 23:24:...|  23| 21|  47|      4|2018|   11|\n",
       "|1542175935796|2018-11-14 06:12:...|   6| 14|  46|      4|2018|   11|\n",
       "|1542193206796|2018-11-14 11:00:...|  11| 14|  46|      4|2018|   11|\n",
       "|1542215827796|2018-11-14 17:17:...|  17| 14|  46|      4|2018|   11|\n",
       "|1542227379796|2018-11-14 20:29:...|  20| 14|  46|      4|2018|   11|\n",
       "|1543403344796|2018-11-28 11:09:...|  11| 28|  48|      4|2018|   11|\n",
       "|1543430935796|2018-11-28 18:48:...|  18| 28|  48|      4|2018|   11|\n",
       "|1541440975796|2018-11-05 18:02:...|  18|  5|  45|      2|2018|   11|\n",
       "|1542091623796|2018-11-13 06:47:...|   6| 13|  46|      3|2018|   11|\n",
       "|1542138403796|2018-11-13 19:46:...|  19| 13|  46|      3|2018|   11|\n",
       "|1542363794796|2018-11-16 10:23:...|  10| 16|  46|      6|2018|   11|\n",
       "|1542369164796|2018-11-16 11:52:...|  11| 16|  46|      6|2018|   11|\n",
       "|1542378072796|2018-11-16 14:21:...|  14| 16|  46|      6|2018|   11|\n",
       "|1542680132796|2018-11-20 02:15:...|   2| 20|  47|      3|2018|   11|\n",
       "+-------------+--------------------+----+---+----+-------+----+-----+\n",
       "only showing top 20 rows"
      ]
     },
     "execution_count": 32,
     "metadata": {},
     "output_type": "execute_result"
    }
   ],
   "source": [
    "tm_df"
   ]
  },
  {
   "cell_type": "code",
   "execution_count": null,
   "metadata": {
    "editable": true
   },
   "outputs": [],
   "source": []
  }
 ],
 "metadata": {
  "kernelspec": {
   "display_name": "Python 3",
   "language": "python",
   "name": "python3"
  },
  "language_info": {
   "codemirror_mode": {
    "name": "ipython",
    "version": 3
   },
   "file_extension": ".py",
   "mimetype": "text/x-python",
   "name": "python",
   "nbconvert_exporter": "python",
   "pygments_lexer": "ipython3",
   "version": "3.6.3"
  }
 },
 "nbformat": 4,
 "nbformat_minor": 4
}
