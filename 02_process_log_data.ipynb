{
 "cells": [
  {
   "cell_type": "markdown",
   "metadata": {
    "editable": true
   },
   "source": [
    "# Process Log data"
   ]
  },
  {
   "cell_type": "code",
   "execution_count": 1,
   "metadata": {
    "editable": true
   },
   "outputs": [],
   "source": [
    "import configparser\n",
    "from datetime import datetime\n",
    "import os\n",
    "from pyspark.sql import SparkSession\n",
    "from pyspark.sql.functions import udf, col, monotonically_increasing_id\n",
    "from pyspark.sql.functions import year, month, dayofmonth, hour, weekofyear, date_format, dayofweek\n",
    "from pyspark.sql.types import *"
   ]
  },
  {
   "cell_type": "code",
   "execution_count": 2,
   "metadata": {
    "editable": true
   },
   "outputs": [],
   "source": [
    "config = configparser.ConfigParser()\n",
    "config.read_file(open('dl.cfg'))\n",
    "\n",
    "os.environ[\"AWS_ACCESS_KEY_ID\"]= config['AWS']['AWS_ACCESS_KEY_ID']\n",
    "os.environ[\"AWS_SECRET_ACCESS_KEY\"]= config['AWS']['AWS_SECRET_ACCESS_KEY']"
   ]
  },
  {
   "cell_type": "code",
   "execution_count": 3,
   "metadata": {
    "editable": true
   },
   "outputs": [
    {
     "name": "stdout",
     "output_type": "stream",
     "text": [
      "CPU times: user 75.2 ms, sys: 34 ms, total: 109 ms\n",
      "Wall time: 15.4 s\n"
     ]
    }
   ],
   "source": [
    "%%time\n",
    "spark = SparkSession.builder\\\n",
    "                     .config(\"spark.jars.packages\",\"org.apache.hadoop:hadoop-aws:2.7.0\")\\\n",
    "                     .getOrCreate()\n",
    "spark.conf.set(\"spark.sql.repl.eagerEval.enabled\", True)"
   ]
  },
  {
   "cell_type": "markdown",
   "metadata": {
    "editable": true
   },
   "source": [
    "# Save S3 data"
   ]
  },
  {
   "cell_type": "code",
   "execution_count": 4,
   "metadata": {
    "editable": true
   },
   "outputs": [],
   "source": [
    "output_data = \"s3a://salas-bucket/temp-save/\""
   ]
  },
  {
   "cell_type": "markdown",
   "metadata": {
    "editable": true
   },
   "source": [
    "# Log data"
   ]
  },
  {
   "cell_type": "markdown",
   "metadata": {
    "editable": true
   },
   "source": [
    "## Check log data folder structure"
   ]
  },
  {
   "cell_type": "code",
   "execution_count": 5,
   "metadata": {
    "editable": true
   },
   "outputs": [],
   "source": [
    "import boto3 \n",
    "\n",
    "s3 = boto3.resource('s3')\n",
    "my_bucket = s3.Bucket('udacity-dend')\n",
    "log_data_list = []\n",
    "for object_summary in my_bucket.objects.filter(Prefix=\"log-data/\"):\n",
    "    log_data_list.append(object_summary.key)"
   ]
  },
  {
   "cell_type": "code",
   "execution_count": 6,
   "metadata": {
    "editable": true
   },
   "outputs": [
    {
     "data": {
      "text/plain": [
       "['log-data/',\n",
       " 'log-data/2018/11/2018-11-01-events.json',\n",
       " 'log-data/2018/11/2018-11-02-events.json',\n",
       " 'log-data/2018/11/2018-11-03-events.json',\n",
       " 'log-data/2018/11/2018-11-04-events.json',\n",
       " 'log-data/2018/11/2018-11-05-events.json',\n",
       " 'log-data/2018/11/2018-11-06-events.json',\n",
       " 'log-data/2018/11/2018-11-07-events.json',\n",
       " 'log-data/2018/11/2018-11-08-events.json',\n",
       " 'log-data/2018/11/2018-11-09-events.json',\n",
       " 'log-data/2018/11/2018-11-10-events.json',\n",
       " 'log-data/2018/11/2018-11-11-events.json',\n",
       " 'log-data/2018/11/2018-11-12-events.json',\n",
       " 'log-data/2018/11/2018-11-13-events.json',\n",
       " 'log-data/2018/11/2018-11-14-events.json',\n",
       " 'log-data/2018/11/2018-11-15-events.json',\n",
       " 'log-data/2018/11/2018-11-16-events.json',\n",
       " 'log-data/2018/11/2018-11-17-events.json',\n",
       " 'log-data/2018/11/2018-11-18-events.json',\n",
       " 'log-data/2018/11/2018-11-19-events.json',\n",
       " 'log-data/2018/11/2018-11-20-events.json',\n",
       " 'log-data/2018/11/2018-11-21-events.json',\n",
       " 'log-data/2018/11/2018-11-22-events.json',\n",
       " 'log-data/2018/11/2018-11-23-events.json',\n",
       " 'log-data/2018/11/2018-11-24-events.json',\n",
       " 'log-data/2018/11/2018-11-25-events.json',\n",
       " 'log-data/2018/11/2018-11-26-events.json',\n",
       " 'log-data/2018/11/2018-11-27-events.json',\n",
       " 'log-data/2018/11/2018-11-28-events.json',\n",
       " 'log-data/2018/11/2018-11-29-events.json',\n",
       " 'log-data/2018/11/2018-11-30-events.json']"
      ]
     },
     "execution_count": 6,
     "metadata": {},
     "output_type": "execute_result"
    }
   ],
   "source": [
    "log_data_list"
   ]
  },
  {
   "cell_type": "markdown",
   "metadata": {
    "editable": true
   },
   "source": [
    "## log data paths"
   ]
  },
  {
   "cell_type": "code",
   "execution_count": 8,
   "metadata": {
    "editable": true
   },
   "outputs": [
    {
     "data": {
      "text/plain": [
       "'s3a://udacity-dend/log_data/*/*/*.json'"
      ]
     },
     "execution_count": 8,
     "metadata": {},
     "output_type": "execute_result"
    }
   ],
   "source": [
    "# get filepath to log data file\n",
    "input_data = \"s3a://udacity-dend/\"\n",
    "log_data = os.path.join(input_data, 'log_data/*/*/*.json')\n",
    "log_data"
   ]
  },
  {
   "cell_type": "markdown",
   "metadata": {
    "editable": true
   },
   "source": [
    "## create dataframe"
   ]
  },
  {
   "cell_type": "code",
   "execution_count": 9,
   "metadata": {
    "editable": true
   },
   "outputs": [
    {
     "name": "stdout",
     "output_type": "stream",
     "text": [
      "CPU times: user 4.09 ms, sys: 4.06 ms, total: 8.15 ms\n",
      "Wall time: 24.9 s\n"
     ]
    }
   ],
   "source": [
    "%%time\n",
    "log_df = spark.read.json(log_data)"
   ]
  },
  {
   "cell_type": "code",
   "execution_count": null,
   "metadata": {
    "editable": true
   },
   "outputs": [],
   "source": []
  },
  {
   "cell_type": "code",
   "execution_count": null,
   "metadata": {
    "editable": true
   },
   "outputs": [],
   "source": [
    "log_df.printSchema()"
   ]
  },
  {
   "cell_type": "code",
   "execution_count": null,
   "metadata": {
    "editable": true
   },
   "outputs": [],
   "source": [
    "log_df"
   ]
  },
  {
   "cell_type": "markdown",
   "metadata": {
    "editable": true
   },
   "source": [
    "## Filter by location "
   ]
  },
  {
   "cell_type": "code",
   "execution_count": 10,
   "metadata": {
    "editable": true
   },
   "outputs": [
    {
     "data": {
      "text/html": [
       "<table border='1'>\n",
       "<tr><th>artist</th><th>auth</th><th>firstName</th><th>gender</th><th>itemInSession</th><th>lastName</th><th>length</th><th>level</th><th>location</th><th>method</th><th>page</th><th>registration</th><th>sessionId</th><th>song</th><th>status</th><th>ts</th><th>userAgent</th><th>userId</th></tr>\n",
       "<tr><td>Harmonia</td><td>Logged In</td><td>Ryan</td><td>M</td><td>0</td><td>Smith</td><td>655.77751</td><td>free</td><td>San Jose-Sunnyval...</td><td>PUT</td><td>NextSong</td><td>1.541016707796E12</td><td>583</td><td>Sehr kosmisch</td><td>200</td><td>1542241826796</td><td>\"Mozilla/5.0 (X11...</td><td>26</td></tr>\n",
       "<tr><td>The Prodigy</td><td>Logged In</td><td>Ryan</td><td>M</td><td>1</td><td>Smith</td><td>260.07465</td><td>free</td><td>San Jose-Sunnyval...</td><td>PUT</td><td>NextSong</td><td>1.541016707796E12</td><td>583</td><td>The Big Gundown</td><td>200</td><td>1542242481796</td><td>\"Mozilla/5.0 (X11...</td><td>26</td></tr>\n",
       "<tr><td>Train</td><td>Logged In</td><td>Ryan</td><td>M</td><td>2</td><td>Smith</td><td>205.45261</td><td>free</td><td>San Jose-Sunnyval...</td><td>PUT</td><td>NextSong</td><td>1.541016707796E12</td><td>583</td><td>Marry Me</td><td>200</td><td>1542242741796</td><td>\"Mozilla/5.0 (X11...</td><td>26</td></tr>\n",
       "<tr><td>Sony Wonder</td><td>Logged In</td><td>Samuel</td><td>M</td><td>0</td><td>Gonzalez</td><td>218.06975</td><td>free</td><td>Houston-The Woodl...</td><td>PUT</td><td>NextSong</td><td>1.540492941796E12</td><td>597</td><td>Blackbird</td><td>200</td><td>1542253449796</td><td>\"Mozilla/5.0 (Mac...</td><td>61</td></tr>\n",
       "<tr><td>Van Halen</td><td>Logged In</td><td>Tegan</td><td>F</td><td>2</td><td>Levine</td><td>289.38404</td><td>paid</td><td>Portland-South Po...</td><td>PUT</td><td>NextSong</td><td>1.540794356796E12</td><td>602</td><td>Best Of Both Worl...</td><td>200</td><td>1542260935796</td><td>\"Mozilla/5.0 (Mac...</td><td>80</td></tr>\n",
       "<tr><td>Magic Sam</td><td>Logged In</td><td>Tegan</td><td>F</td><td>3</td><td>Levine</td><td>132.04853</td><td>paid</td><td>Portland-South Po...</td><td>PUT</td><td>NextSong</td><td>1.540794356796E12</td><td>602</td><td>Call Me If You Ne...</td><td>200</td><td>1542261224796</td><td>\"Mozilla/5.0 (Mac...</td><td>80</td></tr>\n",
       "<tr><td>Edward Sharpe &amp; T...</td><td>Logged In</td><td>Tegan</td><td>F</td><td>4</td><td>Levine</td><td>306.31138</td><td>paid</td><td>Portland-South Po...</td><td>PUT</td><td>NextSong</td><td>1.540794356796E12</td><td>602</td><td>Home</td><td>200</td><td>1542261356796</td><td>\"Mozilla/5.0 (Mac...</td><td>80</td></tr>\n",
       "<tr><td>Usher featuring w...</td><td>Logged In</td><td>Tegan</td><td>F</td><td>5</td><td>Levine</td><td>395.72853</td><td>paid</td><td>Portland-South Po...</td><td>PUT</td><td>NextSong</td><td>1.540794356796E12</td><td>602</td><td>OMG</td><td>200</td><td>1542261662796</td><td>\"Mozilla/5.0 (Mac...</td><td>80</td></tr>\n",
       "<tr><td>Helen Reddy</td><td>Logged In</td><td>Tegan</td><td>F</td><td>7</td><td>Levine</td><td>176.50893</td><td>paid</td><td>Portland-South Po...</td><td>PUT</td><td>NextSong</td><td>1.540794356796E12</td><td>602</td><td>Candle On The Water</td><td>200</td><td>1542262057796</td><td>\"Mozilla/5.0 (Mac...</td><td>80</td></tr>\n",
       "<tr><td>Taylor Swift</td><td>Logged In</td><td>Tegan</td><td>F</td><td>8</td><td>Levine</td><td>201.06404</td><td>paid</td><td>Portland-South Po...</td><td>PUT</td><td>NextSong</td><td>1.540794356796E12</td><td>602</td><td>Our Song</td><td>200</td><td>1542262233796</td><td>\"Mozilla/5.0 (Mac...</td><td>80</td></tr>\n",
       "<tr><td>Sean Paul</td><td>Logged In</td><td>Tegan</td><td>F</td><td>9</td><td>Levine</td><td>245.34159</td><td>paid</td><td>Portland-South Po...</td><td>PUT</td><td>NextSong</td><td>1.540794356796E12</td><td>602</td><td>Baby Boy [feat. B...</td><td>200</td><td>1542262434796</td><td>\"Mozilla/5.0 (Mac...</td><td>80</td></tr>\n",
       "<tr><td>Soundgarden</td><td>Logged In</td><td>Lily</td><td>F</td><td>0</td><td>Koch</td><td>272.19546</td><td>paid</td><td>Chicago-Napervill...</td><td>PUT</td><td>NextSong</td><td>1.541048010796E12</td><td>582</td><td>Black Hole Sun</td><td>200</td><td>1542262456796</td><td>\"Mozilla/5.0 (X11...</td><td>15</td></tr>\n",
       "<tr><td>The Killers</td><td>Logged In</td><td>Tegan</td><td>F</td><td>10</td><td>Levine</td><td>360.75057</td><td>paid</td><td>Portland-South Po...</td><td>PUT</td><td>NextSong</td><td>1.540794356796E12</td><td>602</td><td>Human</td><td>200</td><td>1542262679796</td><td>\"Mozilla/5.0 (Mac...</td><td>80</td></tr>\n",
       "<tr><td>Amy Winehouse</td><td>Logged In</td><td>Lily</td><td>F</td><td>1</td><td>Koch</td><td>165.11955</td><td>paid</td><td>Chicago-Napervill...</td><td>PUT</td><td>NextSong</td><td>1.541048010796E12</td><td>582</td><td>Addicted</td><td>200</td><td>1542262728796</td><td>\"Mozilla/5.0 (X11...</td><td>15</td></tr>\n",
       "<tr><td>Steve Anderson</td><td>Logged In</td><td>Lily</td><td>F</td><td>2</td><td>Koch</td><td>265.06404</td><td>paid</td><td>Chicago-Napervill...</td><td>PUT</td><td>NextSong</td><td>1.541048010796E12</td><td>582</td><td>Air</td><td>200</td><td>1542262893796</td><td>\"Mozilla/5.0 (X11...</td><td>15</td></tr>\n",
       "<tr><td>Rob Zombie</td><td>Logged In</td><td>Lily</td><td>F</td><td>3</td><td>Koch</td><td>220.13342</td><td>paid</td><td>Chicago-Napervill...</td><td>PUT</td><td>NextSong</td><td>1.541048010796E12</td><td>582</td><td>Superbeast</td><td>200</td><td>1542263158796</td><td>\"Mozilla/5.0 (X11...</td><td>15</td></tr>\n",
       "<tr><td>Deadmau5 &amp; Kaskade</td><td>Logged In</td><td>Lily</td><td>F</td><td>4</td><td>Koch</td><td>595.56526</td><td>paid</td><td>Chicago-Napervill...</td><td>PUT</td><td>NextSong</td><td>1.541048010796E12</td><td>582</td><td>I Remember</td><td>200</td><td>1542263378796</td><td>\"Mozilla/5.0 (X11...</td><td>15</td></tr>\n",
       "<tr><td>Shania Twain</td><td>Logged In</td><td>Ryan</td><td>M</td><td>0</td><td>Smith</td><td>213.7073</td><td>free</td><td>San Jose-Sunnyval...</td><td>PUT</td><td>NextSong</td><td>1.541016707796E12</td><td>607</td><td>Don't Be Stupid (...</td><td>200</td><td>1542265716796</td><td>\"Mozilla/5.0 (X11...</td><td>26</td></tr>\n",
       "<tr><td>Los Campesinos</td><td>Logged In</td><td>Ryan</td><td>M</td><td>1</td><td>Smith</td><td>138.10893</td><td>free</td><td>San Jose-Sunnyval...</td><td>PUT</td><td>NextSong</td><td>1.541016707796E12</td><td>607</td><td>We throw parties_...</td><td>200</td><td>1542265929796</td><td>\"Mozilla/5.0 (X11...</td><td>26</td></tr>\n",
       "<tr><td>Ill Nino</td><td>Logged In</td><td>Chloe</td><td>F</td><td>1</td><td>Cuevas</td><td>188.9171</td><td>paid</td><td>San Francisco-Oak...</td><td>PUT</td><td>NextSong</td><td>1.540940782796E12</td><td>606</td><td>How Can I Live (S...</td><td>200</td><td>1542266927796</td><td>Mozilla/5.0 (Wind...</td><td>49</td></tr>\n",
       "</table>\n",
       "only showing top 20 rows\n"
      ],
      "text/plain": [
       "+--------------------+---------+---------+------+-------------+--------+---------+-----+--------------------+------+--------+-----------------+---------+--------------------+------+-------------+--------------------+------+\n",
       "|              artist|     auth|firstName|gender|itemInSession|lastName|   length|level|            location|method|    page|     registration|sessionId|                song|status|           ts|           userAgent|userId|\n",
       "+--------------------+---------+---------+------+-------------+--------+---------+-----+--------------------+------+--------+-----------------+---------+--------------------+------+-------------+--------------------+------+\n",
       "|            Harmonia|Logged In|     Ryan|     M|            0|   Smith|655.77751| free|San Jose-Sunnyval...|   PUT|NextSong|1.541016707796E12|      583|       Sehr kosmisch|   200|1542241826796|\"Mozilla/5.0 (X11...|    26|\n",
       "|         The Prodigy|Logged In|     Ryan|     M|            1|   Smith|260.07465| free|San Jose-Sunnyval...|   PUT|NextSong|1.541016707796E12|      583|     The Big Gundown|   200|1542242481796|\"Mozilla/5.0 (X11...|    26|\n",
       "|               Train|Logged In|     Ryan|     M|            2|   Smith|205.45261| free|San Jose-Sunnyval...|   PUT|NextSong|1.541016707796E12|      583|            Marry Me|   200|1542242741796|\"Mozilla/5.0 (X11...|    26|\n",
       "|         Sony Wonder|Logged In|   Samuel|     M|            0|Gonzalez|218.06975| free|Houston-The Woodl...|   PUT|NextSong|1.540492941796E12|      597|           Blackbird|   200|1542253449796|\"Mozilla/5.0 (Mac...|    61|\n",
       "|           Van Halen|Logged In|    Tegan|     F|            2|  Levine|289.38404| paid|Portland-South Po...|   PUT|NextSong|1.540794356796E12|      602|Best Of Both Worl...|   200|1542260935796|\"Mozilla/5.0 (Mac...|    80|\n",
       "|           Magic Sam|Logged In|    Tegan|     F|            3|  Levine|132.04853| paid|Portland-South Po...|   PUT|NextSong|1.540794356796E12|      602|Call Me If You Ne...|   200|1542261224796|\"Mozilla/5.0 (Mac...|    80|\n",
       "|Edward Sharpe & T...|Logged In|    Tegan|     F|            4|  Levine|306.31138| paid|Portland-South Po...|   PUT|NextSong|1.540794356796E12|      602|                Home|   200|1542261356796|\"Mozilla/5.0 (Mac...|    80|\n",
       "|Usher featuring w...|Logged In|    Tegan|     F|            5|  Levine|395.72853| paid|Portland-South Po...|   PUT|NextSong|1.540794356796E12|      602|                 OMG|   200|1542261662796|\"Mozilla/5.0 (Mac...|    80|\n",
       "|         Helen Reddy|Logged In|    Tegan|     F|            7|  Levine|176.50893| paid|Portland-South Po...|   PUT|NextSong|1.540794356796E12|      602| Candle On The Water|   200|1542262057796|\"Mozilla/5.0 (Mac...|    80|\n",
       "|        Taylor Swift|Logged In|    Tegan|     F|            8|  Levine|201.06404| paid|Portland-South Po...|   PUT|NextSong|1.540794356796E12|      602|            Our Song|   200|1542262233796|\"Mozilla/5.0 (Mac...|    80|\n",
       "|           Sean Paul|Logged In|    Tegan|     F|            9|  Levine|245.34159| paid|Portland-South Po...|   PUT|NextSong|1.540794356796E12|      602|Baby Boy [feat. B...|   200|1542262434796|\"Mozilla/5.0 (Mac...|    80|\n",
       "|         Soundgarden|Logged In|     Lily|     F|            0|    Koch|272.19546| paid|Chicago-Napervill...|   PUT|NextSong|1.541048010796E12|      582|      Black Hole Sun|   200|1542262456796|\"Mozilla/5.0 (X11...|    15|\n",
       "|         The Killers|Logged In|    Tegan|     F|           10|  Levine|360.75057| paid|Portland-South Po...|   PUT|NextSong|1.540794356796E12|      602|               Human|   200|1542262679796|\"Mozilla/5.0 (Mac...|    80|\n",
       "|       Amy Winehouse|Logged In|     Lily|     F|            1|    Koch|165.11955| paid|Chicago-Napervill...|   PUT|NextSong|1.541048010796E12|      582|            Addicted|   200|1542262728796|\"Mozilla/5.0 (X11...|    15|\n",
       "|      Steve Anderson|Logged In|     Lily|     F|            2|    Koch|265.06404| paid|Chicago-Napervill...|   PUT|NextSong|1.541048010796E12|      582|                 Air|   200|1542262893796|\"Mozilla/5.0 (X11...|    15|\n",
       "|          Rob Zombie|Logged In|     Lily|     F|            3|    Koch|220.13342| paid|Chicago-Napervill...|   PUT|NextSong|1.541048010796E12|      582|          Superbeast|   200|1542263158796|\"Mozilla/5.0 (X11...|    15|\n",
       "|  Deadmau5 & Kaskade|Logged In|     Lily|     F|            4|    Koch|595.56526| paid|Chicago-Napervill...|   PUT|NextSong|1.541048010796E12|      582|          I Remember|   200|1542263378796|\"Mozilla/5.0 (X11...|    15|\n",
       "|        Shania Twain|Logged In|     Ryan|     M|            0|   Smith| 213.7073| free|San Jose-Sunnyval...|   PUT|NextSong|1.541016707796E12|      607|Don't Be Stupid (...|   200|1542265716796|\"Mozilla/5.0 (X11...|    26|\n",
       "|      Los Campesinos|Logged In|     Ryan|     M|            1|   Smith|138.10893| free|San Jose-Sunnyval...|   PUT|NextSong|1.541016707796E12|      607|We throw parties_...|   200|1542265929796|\"Mozilla/5.0 (X11...|    26|\n",
       "|            Ill Nino|Logged In|    Chloe|     F|            1|  Cuevas| 188.9171| paid|San Francisco-Oak...|   PUT|NextSong|1.540940782796E12|      606|How Can I Live (S...|   200|1542266927796|Mozilla/5.0 (Wind...|    49|\n",
       "+--------------------+---------+---------+------+-------------+--------+---------+-----+--------------------+------+--------+-----------------+---------+--------------------+------+-------------+--------------------+------+\n",
       "only showing top 20 rows"
      ]
     },
     "execution_count": 10,
     "metadata": {},
     "output_type": "execute_result"
    }
   ],
   "source": [
    "# filter by actions for song plays\n",
    "log_df = log_df.filter(log_df.page == 'NextSong')\n",
    "log_df"
   ]
  },
  {
   "cell_type": "markdown",
   "metadata": {
    "editable": true
   },
   "source": [
    "---\n",
    "# Create`users_table`\n",
    "- change column names\n",
    "- create `user_table`"
   ]
  },
  {
   "cell_type": "code",
   "execution_count": null,
   "metadata": {
    "editable": true
   },
   "outputs": [],
   "source": [
    "users_fields = [\"userId as user_id\", \"firstName as first_name\", \"lastName as last_name\", \"gender\", \"level\"]\n",
    "users_table = log_df.selectExpr(users_fields).dropDuplicates()"
   ]
  },
  {
   "cell_type": "code",
   "execution_count": null,
   "metadata": {
    "editable": true
   },
   "outputs": [],
   "source": [
    "users_table.printSchema()"
   ]
  },
  {
   "cell_type": "code",
   "execution_count": null,
   "metadata": {
    "editable": true
   },
   "outputs": [],
   "source": [
    "users_table"
   ]
  },
  {
   "cell_type": "markdown",
   "metadata": {
    "editable": true
   },
   "source": [
    "# Save Table\n",
    "\n",
    "```bash\n",
    "CPU times: user 183 ms, sys: 37.1 ms, total: 220 ms\n",
    "Wall time: 16min 56s\n",
    "```"
   ]
  },
  {
   "cell_type": "code",
   "execution_count": null,
   "metadata": {
    "editable": true
   },
   "outputs": [],
   "source": []
  },
  {
   "cell_type": "code",
   "execution_count": null,
   "metadata": {
    "editable": true
   },
   "outputs": [],
   "source": [
    "%%time\n",
    "users_table.write.parquet(os.path.join(output_data, \"users/\") , mode=\"overwrite\")"
   ]
  },
  {
   "cell_type": "markdown",
   "metadata": {
    "editable": true
   },
   "source": [
    "---\n",
    "# Create `time_table`\n",
    "\n",
    "## create `start_time` column\n",
    "- use `ts` column\n",
    "- convert int to timestamp"
   ]
  },
  {
   "cell_type": "code",
   "execution_count": 11,
   "metadata": {
    "editable": true
   },
   "outputs": [],
   "source": [
    "get_timestamp = udf(lambda x : datetime.utcfromtimestamp(int(x)/1000), TimestampType())\n",
    "log_df = log_df.withColumn(\"start_time\", get_timestamp(\"ts\"))"
   ]
  },
  {
   "cell_type": "code",
   "execution_count": 12,
   "metadata": {
    "editable": true
   },
   "outputs": [
    {
     "name": "stdout",
     "output_type": "stream",
     "text": [
      "root\n",
      " |-- artist: string (nullable = true)\n",
      " |-- auth: string (nullable = true)\n",
      " |-- firstName: string (nullable = true)\n",
      " |-- gender: string (nullable = true)\n",
      " |-- itemInSession: long (nullable = true)\n",
      " |-- lastName: string (nullable = true)\n",
      " |-- length: double (nullable = true)\n",
      " |-- level: string (nullable = true)\n",
      " |-- location: string (nullable = true)\n",
      " |-- method: string (nullable = true)\n",
      " |-- page: string (nullable = true)\n",
      " |-- registration: double (nullable = true)\n",
      " |-- sessionId: long (nullable = true)\n",
      " |-- song: string (nullable = true)\n",
      " |-- status: long (nullable = true)\n",
      " |-- ts: long (nullable = true)\n",
      " |-- userAgent: string (nullable = true)\n",
      " |-- userId: string (nullable = true)\n",
      " |-- start_time: timestamp (nullable = true)\n",
      "\n"
     ]
    }
   ],
   "source": [
    "log_df.printSchema()"
   ]
  },
  {
   "cell_type": "code",
   "execution_count": 13,
   "metadata": {
    "editable": true
   },
   "outputs": [
    {
     "data": {
      "text/html": [
       "<table border='1'>\n",
       "<tr><th>artist</th><th>auth</th><th>firstName</th><th>gender</th><th>itemInSession</th><th>lastName</th><th>length</th><th>level</th><th>location</th><th>method</th><th>page</th><th>registration</th><th>sessionId</th><th>song</th><th>status</th><th>ts</th><th>userAgent</th><th>userId</th><th>start_time</th></tr>\n",
       "<tr><td>Harmonia</td><td>Logged In</td><td>Ryan</td><td>M</td><td>0</td><td>Smith</td><td>655.77751</td><td>free</td><td>San Jose-Sunnyval...</td><td>PUT</td><td>NextSong</td><td>1.541016707796E12</td><td>583</td><td>Sehr kosmisch</td><td>200</td><td>1542241826796</td><td>\"Mozilla/5.0 (X11...</td><td>26</td><td>2018-11-15 00:30:...</td></tr>\n",
       "<tr><td>The Prodigy</td><td>Logged In</td><td>Ryan</td><td>M</td><td>1</td><td>Smith</td><td>260.07465</td><td>free</td><td>San Jose-Sunnyval...</td><td>PUT</td><td>NextSong</td><td>1.541016707796E12</td><td>583</td><td>The Big Gundown</td><td>200</td><td>1542242481796</td><td>\"Mozilla/5.0 (X11...</td><td>26</td><td>2018-11-15 00:41:...</td></tr>\n",
       "<tr><td>Train</td><td>Logged In</td><td>Ryan</td><td>M</td><td>2</td><td>Smith</td><td>205.45261</td><td>free</td><td>San Jose-Sunnyval...</td><td>PUT</td><td>NextSong</td><td>1.541016707796E12</td><td>583</td><td>Marry Me</td><td>200</td><td>1542242741796</td><td>\"Mozilla/5.0 (X11...</td><td>26</td><td>2018-11-15 00:45:...</td></tr>\n",
       "<tr><td>Sony Wonder</td><td>Logged In</td><td>Samuel</td><td>M</td><td>0</td><td>Gonzalez</td><td>218.06975</td><td>free</td><td>Houston-The Woodl...</td><td>PUT</td><td>NextSong</td><td>1.540492941796E12</td><td>597</td><td>Blackbird</td><td>200</td><td>1542253449796</td><td>\"Mozilla/5.0 (Mac...</td><td>61</td><td>2018-11-15 03:44:...</td></tr>\n",
       "<tr><td>Van Halen</td><td>Logged In</td><td>Tegan</td><td>F</td><td>2</td><td>Levine</td><td>289.38404</td><td>paid</td><td>Portland-South Po...</td><td>PUT</td><td>NextSong</td><td>1.540794356796E12</td><td>602</td><td>Best Of Both Worl...</td><td>200</td><td>1542260935796</td><td>\"Mozilla/5.0 (Mac...</td><td>80</td><td>2018-11-15 05:48:...</td></tr>\n",
       "<tr><td>Magic Sam</td><td>Logged In</td><td>Tegan</td><td>F</td><td>3</td><td>Levine</td><td>132.04853</td><td>paid</td><td>Portland-South Po...</td><td>PUT</td><td>NextSong</td><td>1.540794356796E12</td><td>602</td><td>Call Me If You Ne...</td><td>200</td><td>1542261224796</td><td>\"Mozilla/5.0 (Mac...</td><td>80</td><td>2018-11-15 05:53:...</td></tr>\n",
       "<tr><td>Edward Sharpe &amp; T...</td><td>Logged In</td><td>Tegan</td><td>F</td><td>4</td><td>Levine</td><td>306.31138</td><td>paid</td><td>Portland-South Po...</td><td>PUT</td><td>NextSong</td><td>1.540794356796E12</td><td>602</td><td>Home</td><td>200</td><td>1542261356796</td><td>\"Mozilla/5.0 (Mac...</td><td>80</td><td>2018-11-15 05:55:...</td></tr>\n",
       "<tr><td>Usher featuring w...</td><td>Logged In</td><td>Tegan</td><td>F</td><td>5</td><td>Levine</td><td>395.72853</td><td>paid</td><td>Portland-South Po...</td><td>PUT</td><td>NextSong</td><td>1.540794356796E12</td><td>602</td><td>OMG</td><td>200</td><td>1542261662796</td><td>\"Mozilla/5.0 (Mac...</td><td>80</td><td>2018-11-15 06:01:...</td></tr>\n",
       "<tr><td>Helen Reddy</td><td>Logged In</td><td>Tegan</td><td>F</td><td>7</td><td>Levine</td><td>176.50893</td><td>paid</td><td>Portland-South Po...</td><td>PUT</td><td>NextSong</td><td>1.540794356796E12</td><td>602</td><td>Candle On The Water</td><td>200</td><td>1542262057796</td><td>\"Mozilla/5.0 (Mac...</td><td>80</td><td>2018-11-15 06:07:...</td></tr>\n",
       "<tr><td>Taylor Swift</td><td>Logged In</td><td>Tegan</td><td>F</td><td>8</td><td>Levine</td><td>201.06404</td><td>paid</td><td>Portland-South Po...</td><td>PUT</td><td>NextSong</td><td>1.540794356796E12</td><td>602</td><td>Our Song</td><td>200</td><td>1542262233796</td><td>\"Mozilla/5.0 (Mac...</td><td>80</td><td>2018-11-15 06:10:...</td></tr>\n",
       "<tr><td>Sean Paul</td><td>Logged In</td><td>Tegan</td><td>F</td><td>9</td><td>Levine</td><td>245.34159</td><td>paid</td><td>Portland-South Po...</td><td>PUT</td><td>NextSong</td><td>1.540794356796E12</td><td>602</td><td>Baby Boy [feat. B...</td><td>200</td><td>1542262434796</td><td>\"Mozilla/5.0 (Mac...</td><td>80</td><td>2018-11-15 06:13:...</td></tr>\n",
       "<tr><td>Soundgarden</td><td>Logged In</td><td>Lily</td><td>F</td><td>0</td><td>Koch</td><td>272.19546</td><td>paid</td><td>Chicago-Napervill...</td><td>PUT</td><td>NextSong</td><td>1.541048010796E12</td><td>582</td><td>Black Hole Sun</td><td>200</td><td>1542262456796</td><td>\"Mozilla/5.0 (X11...</td><td>15</td><td>2018-11-15 06:14:...</td></tr>\n",
       "<tr><td>The Killers</td><td>Logged In</td><td>Tegan</td><td>F</td><td>10</td><td>Levine</td><td>360.75057</td><td>paid</td><td>Portland-South Po...</td><td>PUT</td><td>NextSong</td><td>1.540794356796E12</td><td>602</td><td>Human</td><td>200</td><td>1542262679796</td><td>\"Mozilla/5.0 (Mac...</td><td>80</td><td>2018-11-15 06:17:...</td></tr>\n",
       "<tr><td>Amy Winehouse</td><td>Logged In</td><td>Lily</td><td>F</td><td>1</td><td>Koch</td><td>165.11955</td><td>paid</td><td>Chicago-Napervill...</td><td>PUT</td><td>NextSong</td><td>1.541048010796E12</td><td>582</td><td>Addicted</td><td>200</td><td>1542262728796</td><td>\"Mozilla/5.0 (X11...</td><td>15</td><td>2018-11-15 06:18:...</td></tr>\n",
       "<tr><td>Steve Anderson</td><td>Logged In</td><td>Lily</td><td>F</td><td>2</td><td>Koch</td><td>265.06404</td><td>paid</td><td>Chicago-Napervill...</td><td>PUT</td><td>NextSong</td><td>1.541048010796E12</td><td>582</td><td>Air</td><td>200</td><td>1542262893796</td><td>\"Mozilla/5.0 (X11...</td><td>15</td><td>2018-11-15 06:21:...</td></tr>\n",
       "<tr><td>Rob Zombie</td><td>Logged In</td><td>Lily</td><td>F</td><td>3</td><td>Koch</td><td>220.13342</td><td>paid</td><td>Chicago-Napervill...</td><td>PUT</td><td>NextSong</td><td>1.541048010796E12</td><td>582</td><td>Superbeast</td><td>200</td><td>1542263158796</td><td>\"Mozilla/5.0 (X11...</td><td>15</td><td>2018-11-15 06:25:...</td></tr>\n",
       "<tr><td>Deadmau5 &amp; Kaskade</td><td>Logged In</td><td>Lily</td><td>F</td><td>4</td><td>Koch</td><td>595.56526</td><td>paid</td><td>Chicago-Napervill...</td><td>PUT</td><td>NextSong</td><td>1.541048010796E12</td><td>582</td><td>I Remember</td><td>200</td><td>1542263378796</td><td>\"Mozilla/5.0 (X11...</td><td>15</td><td>2018-11-15 06:29:...</td></tr>\n",
       "<tr><td>Shania Twain</td><td>Logged In</td><td>Ryan</td><td>M</td><td>0</td><td>Smith</td><td>213.7073</td><td>free</td><td>San Jose-Sunnyval...</td><td>PUT</td><td>NextSong</td><td>1.541016707796E12</td><td>607</td><td>Don't Be Stupid (...</td><td>200</td><td>1542265716796</td><td>\"Mozilla/5.0 (X11...</td><td>26</td><td>2018-11-15 07:08:...</td></tr>\n",
       "<tr><td>Los Campesinos</td><td>Logged In</td><td>Ryan</td><td>M</td><td>1</td><td>Smith</td><td>138.10893</td><td>free</td><td>San Jose-Sunnyval...</td><td>PUT</td><td>NextSong</td><td>1.541016707796E12</td><td>607</td><td>We throw parties_...</td><td>200</td><td>1542265929796</td><td>\"Mozilla/5.0 (X11...</td><td>26</td><td>2018-11-15 07:12:...</td></tr>\n",
       "<tr><td>Ill Nino</td><td>Logged In</td><td>Chloe</td><td>F</td><td>1</td><td>Cuevas</td><td>188.9171</td><td>paid</td><td>San Francisco-Oak...</td><td>PUT</td><td>NextSong</td><td>1.540940782796E12</td><td>606</td><td>How Can I Live (S...</td><td>200</td><td>1542266927796</td><td>Mozilla/5.0 (Wind...</td><td>49</td><td>2018-11-15 07:28:...</td></tr>\n",
       "</table>\n",
       "only showing top 20 rows\n"
      ],
      "text/plain": [
       "+--------------------+---------+---------+------+-------------+--------+---------+-----+--------------------+------+--------+-----------------+---------+--------------------+------+-------------+--------------------+------+--------------------+\n",
       "|              artist|     auth|firstName|gender|itemInSession|lastName|   length|level|            location|method|    page|     registration|sessionId|                song|status|           ts|           userAgent|userId|          start_time|\n",
       "+--------------------+---------+---------+------+-------------+--------+---------+-----+--------------------+------+--------+-----------------+---------+--------------------+------+-------------+--------------------+------+--------------------+\n",
       "|            Harmonia|Logged In|     Ryan|     M|            0|   Smith|655.77751| free|San Jose-Sunnyval...|   PUT|NextSong|1.541016707796E12|      583|       Sehr kosmisch|   200|1542241826796|\"Mozilla/5.0 (X11...|    26|2018-11-15 00:30:...|\n",
       "|         The Prodigy|Logged In|     Ryan|     M|            1|   Smith|260.07465| free|San Jose-Sunnyval...|   PUT|NextSong|1.541016707796E12|      583|     The Big Gundown|   200|1542242481796|\"Mozilla/5.0 (X11...|    26|2018-11-15 00:41:...|\n",
       "|               Train|Logged In|     Ryan|     M|            2|   Smith|205.45261| free|San Jose-Sunnyval...|   PUT|NextSong|1.541016707796E12|      583|            Marry Me|   200|1542242741796|\"Mozilla/5.0 (X11...|    26|2018-11-15 00:45:...|\n",
       "|         Sony Wonder|Logged In|   Samuel|     M|            0|Gonzalez|218.06975| free|Houston-The Woodl...|   PUT|NextSong|1.540492941796E12|      597|           Blackbird|   200|1542253449796|\"Mozilla/5.0 (Mac...|    61|2018-11-15 03:44:...|\n",
       "|           Van Halen|Logged In|    Tegan|     F|            2|  Levine|289.38404| paid|Portland-South Po...|   PUT|NextSong|1.540794356796E12|      602|Best Of Both Worl...|   200|1542260935796|\"Mozilla/5.0 (Mac...|    80|2018-11-15 05:48:...|\n",
       "|           Magic Sam|Logged In|    Tegan|     F|            3|  Levine|132.04853| paid|Portland-South Po...|   PUT|NextSong|1.540794356796E12|      602|Call Me If You Ne...|   200|1542261224796|\"Mozilla/5.0 (Mac...|    80|2018-11-15 05:53:...|\n",
       "|Edward Sharpe & T...|Logged In|    Tegan|     F|            4|  Levine|306.31138| paid|Portland-South Po...|   PUT|NextSong|1.540794356796E12|      602|                Home|   200|1542261356796|\"Mozilla/5.0 (Mac...|    80|2018-11-15 05:55:...|\n",
       "|Usher featuring w...|Logged In|    Tegan|     F|            5|  Levine|395.72853| paid|Portland-South Po...|   PUT|NextSong|1.540794356796E12|      602|                 OMG|   200|1542261662796|\"Mozilla/5.0 (Mac...|    80|2018-11-15 06:01:...|\n",
       "|         Helen Reddy|Logged In|    Tegan|     F|            7|  Levine|176.50893| paid|Portland-South Po...|   PUT|NextSong|1.540794356796E12|      602| Candle On The Water|   200|1542262057796|\"Mozilla/5.0 (Mac...|    80|2018-11-15 06:07:...|\n",
       "|        Taylor Swift|Logged In|    Tegan|     F|            8|  Levine|201.06404| paid|Portland-South Po...|   PUT|NextSong|1.540794356796E12|      602|            Our Song|   200|1542262233796|\"Mozilla/5.0 (Mac...|    80|2018-11-15 06:10:...|\n",
       "|           Sean Paul|Logged In|    Tegan|     F|            9|  Levine|245.34159| paid|Portland-South Po...|   PUT|NextSong|1.540794356796E12|      602|Baby Boy [feat. B...|   200|1542262434796|\"Mozilla/5.0 (Mac...|    80|2018-11-15 06:13:...|\n",
       "|         Soundgarden|Logged In|     Lily|     F|            0|    Koch|272.19546| paid|Chicago-Napervill...|   PUT|NextSong|1.541048010796E12|      582|      Black Hole Sun|   200|1542262456796|\"Mozilla/5.0 (X11...|    15|2018-11-15 06:14:...|\n",
       "|         The Killers|Logged In|    Tegan|     F|           10|  Levine|360.75057| paid|Portland-South Po...|   PUT|NextSong|1.540794356796E12|      602|               Human|   200|1542262679796|\"Mozilla/5.0 (Mac...|    80|2018-11-15 06:17:...|\n",
       "|       Amy Winehouse|Logged In|     Lily|     F|            1|    Koch|165.11955| paid|Chicago-Napervill...|   PUT|NextSong|1.541048010796E12|      582|            Addicted|   200|1542262728796|\"Mozilla/5.0 (X11...|    15|2018-11-15 06:18:...|\n",
       "|      Steve Anderson|Logged In|     Lily|     F|            2|    Koch|265.06404| paid|Chicago-Napervill...|   PUT|NextSong|1.541048010796E12|      582|                 Air|   200|1542262893796|\"Mozilla/5.0 (X11...|    15|2018-11-15 06:21:...|\n",
       "|          Rob Zombie|Logged In|     Lily|     F|            3|    Koch|220.13342| paid|Chicago-Napervill...|   PUT|NextSong|1.541048010796E12|      582|          Superbeast|   200|1542263158796|\"Mozilla/5.0 (X11...|    15|2018-11-15 06:25:...|\n",
       "|  Deadmau5 & Kaskade|Logged In|     Lily|     F|            4|    Koch|595.56526| paid|Chicago-Napervill...|   PUT|NextSong|1.541048010796E12|      582|          I Remember|   200|1542263378796|\"Mozilla/5.0 (X11...|    15|2018-11-15 06:29:...|\n",
       "|        Shania Twain|Logged In|     Ryan|     M|            0|   Smith| 213.7073| free|San Jose-Sunnyval...|   PUT|NextSong|1.541016707796E12|      607|Don't Be Stupid (...|   200|1542265716796|\"Mozilla/5.0 (X11...|    26|2018-11-15 07:08:...|\n",
       "|      Los Campesinos|Logged In|     Ryan|     M|            1|   Smith|138.10893| free|San Jose-Sunnyval...|   PUT|NextSong|1.541016707796E12|      607|We throw parties_...|   200|1542265929796|\"Mozilla/5.0 (X11...|    26|2018-11-15 07:12:...|\n",
       "|            Ill Nino|Logged In|    Chloe|     F|            1|  Cuevas| 188.9171| paid|San Francisco-Oak...|   PUT|NextSong|1.540940782796E12|      606|How Can I Live (S...|   200|1542266927796|Mozilla/5.0 (Wind...|    49|2018-11-15 07:28:...|\n",
       "+--------------------+---------+---------+------+-------------+--------+---------+-----+--------------------+------+--------+-----------------+---------+--------------------+------+-------------+--------------------+------+--------------------+\n",
       "only showing top 20 rows"
      ]
     },
     "execution_count": 13,
     "metadata": {},
     "output_type": "execute_result"
    }
   ],
   "source": [
    "log_df"
   ]
  },
  {
   "cell_type": "markdown",
   "metadata": {
    "editable": true
   },
   "source": [
    "## create `time_table`\n",
    "- extract data from `start_time` column\n",
    "    "
   ]
  },
  {
   "cell_type": "code",
   "execution_count": 14,
   "metadata": {
    "editable": true
   },
   "outputs": [],
   "source": [
    "time_table = log_df.withColumn(\"hour\",hour(\"start_time\"))\\\n",
    "                .withColumn(\"day\",dayofmonth(\"start_time\"))\\\n",
    "                .withColumn(\"week\",weekofyear(\"start_time\"))\\\n",
    "                .withColumn(\"month\",month(\"start_time\"))\\\n",
    "                .withColumn(\"year\",year(\"start_time\"))\\\n",
    "                .withColumn(\"weekday\",dayofweek(\"start_time\"))\\\n",
    "                .select(\"start_time\",\"hour\", \"day\", \"week\", \"month\", \"year\", \"weekday\").drop_duplicates()"
   ]
  },
  {
   "cell_type": "code",
   "execution_count": 15,
   "metadata": {
    "editable": true
   },
   "outputs": [
    {
     "data": {
      "text/html": [
       "<table border='1'>\n",
       "<tr><th>start_time</th><th>hour</th><th>day</th><th>week</th><th>month</th><th>year</th><th>weekday</th></tr>\n",
       "<tr><td>2018-11-15 14:09:...</td><td>14</td><td>15</td><td>46</td><td>11</td><td>2018</td><td>5</td></tr>\n",
       "<tr><td>2018-11-15 15:24:...</td><td>15</td><td>15</td><td>46</td><td>11</td><td>2018</td><td>5</td></tr>\n",
       "<tr><td>2018-11-15 16:31:...</td><td>16</td><td>15</td><td>46</td><td>11</td><td>2018</td><td>5</td></tr>\n",
       "<tr><td>2018-11-15 19:22:...</td><td>19</td><td>15</td><td>46</td><td>11</td><td>2018</td><td>5</td></tr>\n",
       "<tr><td>2018-11-21 17:40:...</td><td>17</td><td>21</td><td>47</td><td>11</td><td>2018</td><td>4</td></tr>\n",
       "<tr><td>2018-11-14 13:30:...</td><td>13</td><td>14</td><td>46</td><td>11</td><td>2018</td><td>4</td></tr>\n",
       "<tr><td>2018-11-14 17:53:...</td><td>17</td><td>14</td><td>46</td><td>11</td><td>2018</td><td>4</td></tr>\n",
       "<tr><td>2018-11-28 14:18:...</td><td>14</td><td>28</td><td>48</td><td>11</td><td>2018</td><td>4</td></tr>\n",
       "<tr><td>2018-11-28 19:44:...</td><td>19</td><td>28</td><td>48</td><td>11</td><td>2018</td><td>4</td></tr>\n",
       "<tr><td>2018-11-05 09:55:...</td><td>9</td><td>5</td><td>45</td><td>11</td><td>2018</td><td>2</td></tr>\n",
       "<tr><td>2018-11-05 17:51:...</td><td>17</td><td>5</td><td>45</td><td>11</td><td>2018</td><td>2</td></tr>\n",
       "<tr><td>2018-11-13 10:32:...</td><td>10</td><td>13</td><td>46</td><td>11</td><td>2018</td><td>3</td></tr>\n",
       "<tr><td>2018-11-30 12:34:...</td><td>12</td><td>30</td><td>48</td><td>11</td><td>2018</td><td>6</td></tr>\n",
       "<tr><td>2018-11-30 14:33:...</td><td>14</td><td>30</td><td>48</td><td>11</td><td>2018</td><td>6</td></tr>\n",
       "<tr><td>2018-11-16 11:52:...</td><td>11</td><td>16</td><td>46</td><td>11</td><td>2018</td><td>6</td></tr>\n",
       "<tr><td>2018-11-16 22:50:...</td><td>22</td><td>16</td><td>46</td><td>11</td><td>2018</td><td>6</td></tr>\n",
       "<tr><td>2018-11-20 14:11:...</td><td>14</td><td>20</td><td>47</td><td>11</td><td>2018</td><td>3</td></tr>\n",
       "<tr><td>2018-11-20 18:37:...</td><td>18</td><td>20</td><td>47</td><td>11</td><td>2018</td><td>3</td></tr>\n",
       "<tr><td>2018-11-29 14:14:...</td><td>14</td><td>29</td><td>48</td><td>11</td><td>2018</td><td>5</td></tr>\n",
       "<tr><td>2018-11-29 15:27:...</td><td>15</td><td>29</td><td>48</td><td>11</td><td>2018</td><td>5</td></tr>\n",
       "</table>\n",
       "only showing top 20 rows\n"
      ],
      "text/plain": [
       "+--------------------+----+---+----+-----+----+-------+\n",
       "|          start_time|hour|day|week|month|year|weekday|\n",
       "+--------------------+----+---+----+-----+----+-------+\n",
       "|2018-11-15 14:09:...|  14| 15|  46|   11|2018|      5|\n",
       "|2018-11-15 15:24:...|  15| 15|  46|   11|2018|      5|\n",
       "|2018-11-15 16:31:...|  16| 15|  46|   11|2018|      5|\n",
       "|2018-11-15 19:22:...|  19| 15|  46|   11|2018|      5|\n",
       "|2018-11-21 17:40:...|  17| 21|  47|   11|2018|      4|\n",
       "|2018-11-14 13:30:...|  13| 14|  46|   11|2018|      4|\n",
       "|2018-11-14 17:53:...|  17| 14|  46|   11|2018|      4|\n",
       "|2018-11-28 14:18:...|  14| 28|  48|   11|2018|      4|\n",
       "|2018-11-28 19:44:...|  19| 28|  48|   11|2018|      4|\n",
       "|2018-11-05 09:55:...|   9|  5|  45|   11|2018|      2|\n",
       "|2018-11-05 17:51:...|  17|  5|  45|   11|2018|      2|\n",
       "|2018-11-13 10:32:...|  10| 13|  46|   11|2018|      3|\n",
       "|2018-11-30 12:34:...|  12| 30|  48|   11|2018|      6|\n",
       "|2018-11-30 14:33:...|  14| 30|  48|   11|2018|      6|\n",
       "|2018-11-16 11:52:...|  11| 16|  46|   11|2018|      6|\n",
       "|2018-11-16 22:50:...|  22| 16|  46|   11|2018|      6|\n",
       "|2018-11-20 14:11:...|  14| 20|  47|   11|2018|      3|\n",
       "|2018-11-20 18:37:...|  18| 20|  47|   11|2018|      3|\n",
       "|2018-11-29 14:14:...|  14| 29|  48|   11|2018|      5|\n",
       "|2018-11-29 15:27:...|  15| 29|  48|   11|2018|      5|\n",
       "+--------------------+----+---+----+-----+----+-------+\n",
       "only showing top 20 rows"
      ]
     },
     "execution_count": 15,
     "metadata": {},
     "output_type": "execute_result"
    }
   ],
   "source": [
    "time_table"
   ]
  },
  {
   "cell_type": "markdown",
   "metadata": {
    "editable": true
   },
   "source": [
    "# Save time table\n",
    "```bash\n",
    "CPU times: user 300 ms, sys: 68.8 ms, total: 369 ms\n",
    "Wall time: 47min 54s\n",
    "```"
   ]
  },
  {
   "cell_type": "code",
   "execution_count": null,
   "metadata": {
    "editable": true
   },
   "outputs": [],
   "source": [
    "%%time\n",
    "time_table.write.parquet(os.path.join(output_data, \"time_table/\"), mode='overwrite', partitionBy=[\"year\",\"month\"])"
   ]
  },
  {
   "cell_type": "code",
   "execution_count": null,
   "metadata": {
    "editable": true
   },
   "outputs": [],
   "source": []
  },
  {
   "cell_type": "code",
   "execution_count": null,
   "metadata": {
    "editable": true
   },
   "outputs": [],
   "source": []
  },
  {
   "cell_type": "markdown",
   "metadata": {
    "editable": true
   },
   "source": [
    "# load song table from prev notebook"
   ]
  },
  {
   "cell_type": "code",
   "execution_count": 16,
   "metadata": {
    "editable": true
   },
   "outputs": [
    {
     "name": "stdout",
     "output_type": "stream",
     "text": [
      "CPU times: user 4.57 ms, sys: 0 ns, total: 4.57 ms\n",
      "Wall time: 18.1 s\n"
     ]
    }
   ],
   "source": [
    "%%time\n",
    "song_df = spark.read.format(\"parquet\").option(\"basePath\", os.path.join(output_data, \"songs/\")).load(os.path.join(output_data, \"songs/*/*/\"))"
   ]
  },
  {
   "cell_type": "code",
   "execution_count": 17,
   "metadata": {
    "editable": true
   },
   "outputs": [
    {
     "data": {
      "text/html": [
       "<table border='1'>\n",
       "<tr><th>song_id</th><th>title</th><th>duration</th><th>year</th><th>artist_id</th></tr>\n",
       "<tr><td>SOKTJDS12AF72A25E5</td><td>Drown In My Own T...</td><td>192.522</td><td>0</td><td>ARA23XO1187B9AF18F</td></tr>\n",
       "<tr><td>SOEKAZG12AB018837E</td><td>I'll Slap Your Fa...</td><td>129.85424</td><td>2001</td><td>ARSVTNL1187B992A91</td></tr>\n",
       "<tr><td>SOAFBCP12A8C13CC7D</td><td>King Of Scurf (20...</td><td>301.40036</td><td>1972</td><td>ARTC1LV1187B9A4858</td></tr>\n",
       "<tr><td>SORRNOC12AB017F52B</td><td>The Last Beat Of ...</td><td>337.81506</td><td>2004</td><td>ARSZ7L31187FB4E610</td></tr>\n",
       "<tr><td>SOQPWCR12A6D4FB2A3</td><td>A Poor Recipe For...</td><td>118.07302</td><td>2005</td><td>AR73AIO1187B9AD57B</td></tr>\n",
       "<tr><td>SODZYPO12A8C13A91E</td><td>Burn My Body (Alb...</td><td>177.99791</td><td>0</td><td>AR1C2IX1187B99BF74</td></tr>\n",
       "<tr><td>SOBRKGM12A8C139EF6</td><td>Welcome to the Pl...</td><td>821.05424</td><td>1985</td><td>ARXQBR11187B98A2CC</td></tr>\n",
       "<tr><td>SOERIDA12A6D4F8506</td><td>I Want You (Album...</td><td>192.28689</td><td>2006</td><td>ARBZIN01187FB362CC</td></tr>\n",
       "<tr><td>SOAPERH12A58A787DC</td><td>The One And Only ...</td><td>230.42567</td><td>0</td><td>ARZ5H0P1187B98A1DD</td></tr>\n",
       "<tr><td>SOSMJFC12A8C13DE0C</td><td>Is That All There...</td><td>343.87546</td><td>0</td><td>AR1KTV21187B9ACD72</td></tr>\n",
       "<tr><td>SONRWUU12AF72A4283</td><td>Into The Nightlife</td><td>240.63955</td><td>2008</td><td>ARGE7G11187FB37E05</td></tr>\n",
       "<tr><td>SOOVHYF12A8C134892</td><td>I'll Be Waiting</td><td>304.56118</td><td>1989</td><td>ARCLYBR1187FB53913</td></tr>\n",
       "<tr><td>SOXZYWX12A6310ED0C</td><td>It's About Time</td><td>246.9873</td><td>0</td><td>ARC1IHZ1187FB4E920</td></tr>\n",
       "<tr><td>SOFSOCN12A8C143F5D</td><td>Face the Ashes</td><td>209.60608</td><td>2007</td><td>ARXR32B1187FB57099</td></tr>\n",
       "<tr><td>SOIGICF12A8C141BC5</td><td>Game &amp; Watch</td><td>580.54485</td><td>2004</td><td>AREWD471187FB49873</td></tr>\n",
       "<tr><td>SOFRDWL12A58A7CEF7</td><td>Hit Da Scene</td><td>252.94322</td><td>0</td><td>AR9Q9YC1187FB5609B</td></tr>\n",
       "<tr><td>SOHKNRJ12A6701D1F8</td><td>Drop of Rain</td><td>189.57016</td><td>0</td><td>AR10USD1187B99F3F1</td></tr>\n",
       "<tr><td>SOIGHOD12A8C13B5A1</td><td>Indian Angel</td><td>171.57179</td><td>2004</td><td>ARY589G1187B9A9F4E</td></tr>\n",
       "<tr><td>SOHOZBI12A8C132E3C</td><td>Smash It Up</td><td>195.39546</td><td>2000</td><td>AR0MWD61187B9B2B12</td></tr>\n",
       "<tr><td>SONQPZK12AB0182D84</td><td>Double Wide</td><td>160.20853</td><td>0</td><td>ARKYKXP11F50C47A6A</td></tr>\n",
       "</table>\n",
       "only showing top 20 rows\n"
      ],
      "text/plain": [
       "+------------------+--------------------+---------+----+------------------+\n",
       "|           song_id|               title| duration|year|         artist_id|\n",
       "+------------------+--------------------+---------+----+------------------+\n",
       "|SOKTJDS12AF72A25E5|Drown In My Own T...|  192.522|   0|ARA23XO1187B9AF18F|\n",
       "|SOEKAZG12AB018837E|I'll Slap Your Fa...|129.85424|2001|ARSVTNL1187B992A91|\n",
       "|SOAFBCP12A8C13CC7D|King Of Scurf (20...|301.40036|1972|ARTC1LV1187B9A4858|\n",
       "|SORRNOC12AB017F52B|The Last Beat Of ...|337.81506|2004|ARSZ7L31187FB4E610|\n",
       "|SOQPWCR12A6D4FB2A3|A Poor Recipe For...|118.07302|2005|AR73AIO1187B9AD57B|\n",
       "|SODZYPO12A8C13A91E|Burn My Body (Alb...|177.99791|   0|AR1C2IX1187B99BF74|\n",
       "|SOBRKGM12A8C139EF6|Welcome to the Pl...|821.05424|1985|ARXQBR11187B98A2CC|\n",
       "|SOERIDA12A6D4F8506|I Want You (Album...|192.28689|2006|ARBZIN01187FB362CC|\n",
       "|SOAPERH12A58A787DC|The One And Only ...|230.42567|   0|ARZ5H0P1187B98A1DD|\n",
       "|SOSMJFC12A8C13DE0C|Is That All There...|343.87546|   0|AR1KTV21187B9ACD72|\n",
       "|SONRWUU12AF72A4283|  Into The Nightlife|240.63955|2008|ARGE7G11187FB37E05|\n",
       "|SOOVHYF12A8C134892|     I'll Be Waiting|304.56118|1989|ARCLYBR1187FB53913|\n",
       "|SOXZYWX12A6310ED0C|     It's About Time| 246.9873|   0|ARC1IHZ1187FB4E920|\n",
       "|SOFSOCN12A8C143F5D|      Face the Ashes|209.60608|2007|ARXR32B1187FB57099|\n",
       "|SOIGICF12A8C141BC5|        Game & Watch|580.54485|2004|AREWD471187FB49873|\n",
       "|SOFRDWL12A58A7CEF7|        Hit Da Scene|252.94322|   0|AR9Q9YC1187FB5609B|\n",
       "|SOHKNRJ12A6701D1F8|        Drop of Rain|189.57016|   0|AR10USD1187B99F3F1|\n",
       "|SOIGHOD12A8C13B5A1|        Indian Angel|171.57179|2004|ARY589G1187B9A9F4E|\n",
       "|SOHOZBI12A8C132E3C|         Smash It Up|195.39546|2000|AR0MWD61187B9B2B12|\n",
       "|SONQPZK12AB0182D84|         Double Wide|160.20853|   0|ARKYKXP11F50C47A6A|\n",
       "+------------------+--------------------+---------+----+------------------+\n",
       "only showing top 20 rows"
      ]
     },
     "execution_count": 17,
     "metadata": {},
     "output_type": "execute_result"
    }
   ],
   "source": [
    "song_df"
   ]
  },
  {
   "cell_type": "code",
   "execution_count": 18,
   "metadata": {
    "editable": true
   },
   "outputs": [],
   "source": [
    "df = log_df"
   ]
  },
  {
   "cell_type": "markdown",
   "metadata": {
    "editable": true
   },
   "source": [
    "# extract columns from joined song and log datasets to create songplays table "
   ]
  },
  {
   "cell_type": "code",
   "execution_count": 19,
   "metadata": {
    "editable": true
   },
   "outputs": [
    {
     "name": "stdout",
     "output_type": "stream",
     "text": [
      "CPU times: user 8.75 ms, sys: 76 µs, total: 8.82 ms\n",
      "Wall time: 104 ms\n"
     ]
    }
   ],
   "source": [
    "%%time\n",
    "songplays_table = df.join(song_df, df.song == song_df.title, how='inner').select(monotonically_increasing_id().alias(\"songplay_id\"),col(\"start_time\"),col(\"userId\").alias(\"user_id\"),\"level\",\"song_id\",\"artist_id\", col(\"sessionId\").alias(\"session_id\"), \"location\", col(\"userAgent\").alias(\"user_agent\"))    "
   ]
  },
  {
   "cell_type": "code",
   "execution_count": 20,
   "metadata": {
    "editable": true
   },
   "outputs": [
    {
     "data": {
      "text/html": [
       "<table border='1'>\n",
       "<tr><th>songplay_id</th><th>start_time</th><th>user_id</th><th>level</th><th>song_id</th><th>artist_id</th><th>session_id</th><th>location</th><th>user_agent</th></tr>\n",
       "<tr><td>0</td><td>2018-11-15 16:19:...</td><td>97</td><td>paid</td><td>SOBLFFE12AF72AA5BA</td><td>ARJNIUY12298900C91</td><td>605</td><td>Lansing-East Lans...</td><td>\"Mozilla/5.0 (X11...</td></tr>\n",
       "</table>\n"
      ],
      "text/plain": [
       "+-----------+--------------------+-------+-----+------------------+------------------+----------+--------------------+--------------------+\n",
       "|songplay_id|          start_time|user_id|level|           song_id|         artist_id|session_id|            location|          user_agent|\n",
       "+-----------+--------------------+-------+-----+------------------+------------------+----------+--------------------+--------------------+\n",
       "|          0|2018-11-15 16:19:...|     97| paid|SOBLFFE12AF72AA5BA|ARJNIUY12298900C91|       605|Lansing-East Lans...|\"Mozilla/5.0 (X11...|\n",
       "+-----------+--------------------+-------+-----+------------------+------------------+----------+--------------------+--------------------+"
      ]
     },
     "execution_count": 20,
     "metadata": {},
     "output_type": "execute_result"
    }
   ],
   "source": [
    "songplays_table"
   ]
  },
  {
   "cell_type": "code",
   "execution_count": 21,
   "metadata": {
    "editable": true
   },
   "outputs": [
    {
     "name": "stdout",
     "output_type": "stream",
     "text": [
      "CPU times: user 3.42 ms, sys: 3.4 ms, total: 6.83 ms\n",
      "Wall time: 180 ms\n"
     ]
    }
   ],
   "source": [
    "%%time\n",
    "songplays_table = songplays_table.join(time_table, songplays_table.start_time == time_table.start_time, how=\"inner\").select(\"songplay_id\", songplays_table.start_time, \"user_id\", \"level\", \"song_id\", \"artist_id\", \"session_id\", \"location\", \"user_agent\")"
   ]
  },
  {
   "cell_type": "code",
   "execution_count": 22,
   "metadata": {
    "editable": true
   },
   "outputs": [
    {
     "data": {
      "text/html": [
       "<table border='1'>\n",
       "<tr><th>songplay_id</th><th>start_time</th><th>user_id</th><th>level</th><th>song_id</th><th>artist_id</th><th>session_id</th><th>location</th><th>user_agent</th></tr>\n",
       "<tr><td>0</td><td>2018-11-15 16:19:...</td><td>97</td><td>paid</td><td>SOBLFFE12AF72AA5BA</td><td>ARJNIUY12298900C91</td><td>605</td><td>Lansing-East Lans...</td><td>\"Mozilla/5.0 (X11...</td></tr>\n",
       "</table>\n"
      ],
      "text/plain": [
       "+-----------+--------------------+-------+-----+------------------+------------------+----------+--------------------+--------------------+\n",
       "|songplay_id|          start_time|user_id|level|           song_id|         artist_id|session_id|            location|          user_agent|\n",
       "+-----------+--------------------+-------+-----+------------------+------------------+----------+--------------------+--------------------+\n",
       "|          0|2018-11-15 16:19:...|     97| paid|SOBLFFE12AF72AA5BA|ARJNIUY12298900C91|       605|Lansing-East Lans...|\"Mozilla/5.0 (X11...|\n",
       "+-----------+--------------------+-------+-----+------------------+------------------+----------+--------------------+--------------------+"
      ]
     },
     "execution_count": 22,
     "metadata": {},
     "output_type": "execute_result"
    }
   ],
   "source": [
    "songplays_table"
   ]
  },
  {
   "cell_type": "code",
   "execution_count": null,
   "metadata": {
    "editable": true
   },
   "outputs": [],
   "source": []
  },
  {
   "cell_type": "code",
   "execution_count": null,
   "metadata": {
    "editable": true
   },
   "outputs": [],
   "source": []
  },
  {
   "cell_type": "markdown",
   "metadata": {
    "editable": true
   },
   "source": [
    "# write songplays table to parquet files partitioned by year and month\n",
    "\n",
    "```bash\n",
    "\n",
    "CPU times: user 55.4 ms, sys: 24 ms, total: 79.4 ms\n",
    "Wall time: 2min 4s\n",
    "```"
   ]
  },
  {
   "cell_type": "code",
   "execution_count": null,
   "metadata": {
    "editable": true
   },
   "outputs": [],
   "source": [
    "%%time\n",
    "songplays_table.drop_duplicates().write.parquet(os.path.join(output_data, \"songplays/\"), mode=\"overwrite\", partitionBy=[\"year\",\"month\"])"
   ]
  },
  {
   "cell_type": "code",
   "execution_count": null,
   "metadata": {
    "editable": true
   },
   "outputs": [],
   "source": []
  }
 ],
 "metadata": {
  "kernelspec": {
   "display_name": "Python 3",
   "language": "python",
   "name": "python3"
  },
  "language_info": {
   "codemirror_mode": {
    "name": "ipython",
    "version": 3
   },
   "file_extension": ".py",
   "mimetype": "text/x-python",
   "name": "python",
   "nbconvert_exporter": "python",
   "pygments_lexer": "ipython3",
   "version": "3.6.3"
  }
 },
 "nbformat": 4,
 "nbformat_minor": 4
}
