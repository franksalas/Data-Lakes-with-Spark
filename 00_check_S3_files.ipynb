{
 "cells": [
  {
   "cell_type": "markdown",
   "metadata": {
    "editable": true
   },
   "source": [
    "# Test S3 file structure"
   ]
  },
  {
   "cell_type": "code",
   "execution_count": 87,
   "metadata": {
    "editable": true
   },
   "outputs": [],
   "source": [
    "import boto3 \n",
    "# progress bar\n",
    "from tqdm import tqdm"
   ]
  },
  {
   "cell_type": "code",
   "execution_count": 88,
   "metadata": {
    "editable": true
   },
   "outputs": [],
   "source": [
    "s3 = boto3.resource('s3')\n",
    "my_bucket = s3.Bucket('udacity-dend')"
   ]
  },
  {
   "cell_type": "markdown",
   "metadata": {
    "editable": true
   },
   "source": [
    "## `log_data`\n",
    "- 30 log files"
   ]
  },
  {
   "cell_type": "code",
   "execution_count": 89,
   "metadata": {
    "editable": true
   },
   "outputs": [
    {
     "name": "stderr",
     "output_type": "stream",
     "text": [
      "31it [00:00, 45.29it/s]\n"
     ]
    }
   ],
   "source": [
    "log_data_list = []\n",
    "for object_summary in tqdm(my_bucket.objects.filter(Prefix=\"log-data/\")):\n",
    "    log_data_list.append(object_summary.key)"
   ]
  },
  {
   "cell_type": "code",
   "execution_count": 90,
   "metadata": {
    "editable": true
   },
   "outputs": [
    {
     "data": {
      "text/plain": [
       "31"
      ]
     },
     "execution_count": 90,
     "metadata": {},
     "output_type": "execute_result"
    }
   ],
   "source": [
    "len(log_data_list)"
   ]
  },
  {
   "cell_type": "code",
   "execution_count": 91,
   "metadata": {
    "editable": true
   },
   "outputs": [
    {
     "data": {
      "text/plain": [
       "['log-data/',\n",
       " 'log-data/2018/11/2018-11-01-events.json',\n",
       " 'log-data/2018/11/2018-11-02-events.json',\n",
       " 'log-data/2018/11/2018-11-03-events.json',\n",
       " 'log-data/2018/11/2018-11-04-events.json',\n",
       " 'log-data/2018/11/2018-11-05-events.json',\n",
       " 'log-data/2018/11/2018-11-06-events.json',\n",
       " 'log-data/2018/11/2018-11-07-events.json',\n",
       " 'log-data/2018/11/2018-11-08-events.json',\n",
       " 'log-data/2018/11/2018-11-09-events.json',\n",
       " 'log-data/2018/11/2018-11-10-events.json',\n",
       " 'log-data/2018/11/2018-11-11-events.json',\n",
       " 'log-data/2018/11/2018-11-12-events.json',\n",
       " 'log-data/2018/11/2018-11-13-events.json',\n",
       " 'log-data/2018/11/2018-11-14-events.json',\n",
       " 'log-data/2018/11/2018-11-15-events.json',\n",
       " 'log-data/2018/11/2018-11-16-events.json',\n",
       " 'log-data/2018/11/2018-11-17-events.json',\n",
       " 'log-data/2018/11/2018-11-18-events.json',\n",
       " 'log-data/2018/11/2018-11-19-events.json',\n",
       " 'log-data/2018/11/2018-11-20-events.json',\n",
       " 'log-data/2018/11/2018-11-21-events.json',\n",
       " 'log-data/2018/11/2018-11-22-events.json',\n",
       " 'log-data/2018/11/2018-11-23-events.json',\n",
       " 'log-data/2018/11/2018-11-24-events.json',\n",
       " 'log-data/2018/11/2018-11-25-events.json',\n",
       " 'log-data/2018/11/2018-11-26-events.json',\n",
       " 'log-data/2018/11/2018-11-27-events.json',\n",
       " 'log-data/2018/11/2018-11-28-events.json',\n",
       " 'log-data/2018/11/2018-11-29-events.json',\n",
       " 'log-data/2018/11/2018-11-30-events.json']"
      ]
     },
     "execution_count": 91,
     "metadata": {},
     "output_type": "execute_result"
    }
   ],
   "source": [
    "log_data_list"
   ]
  },
  {
   "cell_type": "markdown",
   "metadata": {
    "editable": true
   },
   "source": [
    "# `song_data`\n",
    "- ~ 385,252 files\n",
    "- ~ 9 minutes to check"
   ]
  },
  {
   "cell_type": "code",
   "execution_count": 78,
   "metadata": {
    "editable": true
   },
   "outputs": [],
   "source": [
    "song_data_list = []"
   ]
  },
  {
   "cell_type": "code",
   "execution_count": 79,
   "metadata": {
    "editable": true
   },
   "outputs": [
    {
     "name": "stderr",
     "output_type": "stream",
     "text": [
      "385253it [09:11, 698.34it/s]\n"
     ]
    }
   ],
   "source": [
    "for object_summary in tqdm(my_bucket.objects.filter(Prefix=\"song-data/\")):\n",
    "    song_data_list.append(object_summary.key)"
   ]
  },
  {
   "cell_type": "code",
   "execution_count": 80,
   "metadata": {
    "editable": true
   },
   "outputs": [
    {
     "data": {
      "text/plain": [
       "385253"
      ]
     },
     "execution_count": 80,
     "metadata": {},
     "output_type": "execute_result"
    }
   ],
   "source": [
    "len(song_data_list)"
   ]
  },
  {
   "cell_type": "markdown",
   "metadata": {
    "editable": true
   },
   "source": [
    "# get a file path from song_data"
   ]
  },
  {
   "cell_type": "code",
   "execution_count": 82,
   "metadata": {
    "editable": true
   },
   "outputs": [
    {
     "data": {
      "text/plain": [
       "['song-data/W/P/U/TRWPURU128F146D1AE.json',\n",
       " 'song-data/W/P/U/TRWPUUA128F933582B.json',\n",
       " 'song-data/W/P/U/TRWPUVV128F149EF43.json',\n",
       " 'song-data/W/P/U/TRWPUVY128F423D1B9.json',\n",
       " 'song-data/W/P/U/TRWPUWW128F4285B62.json',\n",
       " 'song-data/W/P/U/TRWPUWY128F93065D0.json']"
      ]
     },
     "execution_count": 82,
     "metadata": {},
     "output_type": "execute_result"
    }
   ],
   "source": [
    "song_data_list[335253:335259]"
   ]
  },
  {
   "cell_type": "code",
   "execution_count": null,
   "metadata": {
    "editable": true
   },
   "outputs": [],
   "source": []
  },
  {
   "cell_type": "code",
   "execution_count": null,
   "metadata": {
    "editable": true
   },
   "outputs": [],
   "source": []
  }
 ],
 "metadata": {
  "kernelspec": {
   "display_name": "Python 3",
   "language": "python",
   "name": "python3"
  },
  "language_info": {
   "codemirror_mode": {
    "name": "ipython",
    "version": 3
   },
   "file_extension": ".py",
   "mimetype": "text/x-python",
   "name": "python",
   "nbconvert_exporter": "python",
   "pygments_lexer": "ipython3",
   "version": "3.6.3"
  }
 },
 "nbformat": 4,
 "nbformat_minor": 4
}
