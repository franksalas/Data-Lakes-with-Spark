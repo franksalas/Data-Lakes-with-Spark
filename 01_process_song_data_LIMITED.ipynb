{
 "cells": [
  {
   "cell_type": "markdown",
   "metadata": {
    "editable": true
   },
   "source": [
    "# Process Song data : Limited"
   ]
  },
  {
   "cell_type": "code",
   "execution_count": 15,
   "metadata": {
    "editable": true
   },
   "outputs": [],
   "source": [
    "import configparser\n",
    "from datetime import datetime\n",
    "import os\n",
    "from pyspark.sql import SparkSession\n",
    "from pyspark.sql.functions import udf, col, monotonically_increasing_id\n",
    "from pyspark.sql.functions import year, month, dayofmonth, hour, weekofyear, date_format, dayofweek\n",
    "from pyspark.sql.types import *\n",
    "from tqdm import tqdm"
   ]
  },
  {
   "cell_type": "code",
   "execution_count": 2,
   "metadata": {
    "editable": true
   },
   "outputs": [],
   "source": [
    "config = configparser.ConfigParser()\n",
    "config.read_file(open('dl.cfg'))\n",
    "os.environ[\"AWS_ACCESS_KEY_ID\"]= config['AWS']['AWS_ACCESS_KEY_ID']\n",
    "os.environ[\"AWS_SECRET_ACCESS_KEY\"]= config['AWS']['AWS_SECRET_ACCESS_KEY']"
   ]
  },
  {
   "cell_type": "code",
   "execution_count": 3,
   "metadata": {
    "editable": true
   },
   "outputs": [],
   "source": [
    "spark = SparkSession.builder\\\n",
    "                     .config(\"spark.jars.packages\",\"org.apache.hadoop:hadoop-aws:2.7.0\")\\\n",
    "                     .getOrCreate()\n",
    "spark.conf.set(\"spark.sql.repl.eagerEval.enabled\", True)"
   ]
  },
  {
   "cell_type": "markdown",
   "metadata": {
    "editable": true
   },
   "source": [
    "# S3 save location "
   ]
  },
  {
   "cell_type": "code",
   "execution_count": 14,
   "metadata": {
    "editable": true
   },
   "outputs": [],
   "source": [
    "# save location\n",
    "output_data = \"s3a://salas-bucket/temp-save/\""
   ]
  },
  {
   "cell_type": "markdown",
   "metadata": {
    "editable": true
   },
   "source": [
    "# Check song_data LIMITED"
   ]
  },
  {
   "cell_type": "code",
   "execution_count": 5,
   "metadata": {
    "editable": true
   },
   "outputs": [],
   "source": [
    "import boto3 \n",
    "\n",
    "s3 = boto3.resource('s3')\n",
    "my_bucket = s3.Bucket('udacity-dend')\n",
    "song_data_list = []\n",
    "for object_summary in my_bucket.objects.filter(Prefix=\"song-data/A/A/A/\"):\n",
    "    song_data_list.append(object_summary.key)"
   ]
  },
  {
   "cell_type": "code",
   "execution_count": 6,
   "metadata": {
    "editable": true
   },
   "outputs": [
    {
     "data": {
      "text/plain": [
       "24"
      ]
     },
     "execution_count": 6,
     "metadata": {},
     "output_type": "execute_result"
    }
   ],
   "source": [
    "len(song_data_list)"
   ]
  },
  {
   "cell_type": "code",
   "execution_count": 7,
   "metadata": {
    "editable": true
   },
   "outputs": [
    {
     "data": {
      "text/plain": [
       "['song-data/A/A/A/TRAAAAK128F9318786.json',\n",
       " 'song-data/A/A/A/TRAAAAV128F421A322.json',\n",
       " 'song-data/A/A/A/TRAAABD128F429CF47.json',\n",
       " 'song-data/A/A/A/TRAAACN128F9355673.json',\n",
       " 'song-data/A/A/A/TRAAAEA128F935A30D.json',\n",
       " 'song-data/A/A/A/TRAAAED128E0783FAB.json',\n",
       " 'song-data/A/A/A/TRAAAEM128F93347B9.json',\n",
       " 'song-data/A/A/A/TRAAAEW128F42930C0.json',\n",
       " 'song-data/A/A/A/TRAAAFD128F92F423A.json',\n",
       " 'song-data/A/A/A/TRAAAGR128F425B14B.json',\n",
       " 'song-data/A/A/A/TRAAAHD128F42635A5.json',\n",
       " 'song-data/A/A/A/TRAAAHJ128F931194C.json',\n",
       " 'song-data/A/A/A/TRAAAHZ128E0799171.json',\n",
       " 'song-data/A/A/A/TRAAAIR128F1480971.json',\n",
       " 'song-data/A/A/A/TRAAAJN128F428E437.json',\n",
       " 'song-data/A/A/A/TRAAAND12903CD1F1B.json',\n",
       " 'song-data/A/A/A/TRAAANK128F428B515.json',\n",
       " 'song-data/A/A/A/TRAAAOF128F429C156.json',\n",
       " 'song-data/A/A/A/TRAAAPK128E0786D96.json',\n",
       " 'song-data/A/A/A/TRAAAQN128F9353BA0.json',\n",
       " 'song-data/A/A/A/TRAAAQO12903CD8E1C.json',\n",
       " 'song-data/A/A/A/TRAAAUC128F428716F.json',\n",
       " 'song-data/A/A/A/TRAAAUR128F428B1FA.json',\n",
       " 'song-data/A/A/A/TRAAAYL128F4271A5B.json']"
      ]
     },
     "execution_count": 7,
     "metadata": {},
     "output_type": "execute_result"
    }
   ],
   "source": [
    "song_data_list"
   ]
  },
  {
   "cell_type": "markdown",
   "metadata": {
    "editable": true
   },
   "source": [
    "# song_data `LIMITED`"
   ]
  },
  {
   "cell_type": "code",
   "execution_count": 8,
   "metadata": {
    "editable": true
   },
   "outputs": [
    {
     "data": {
      "text/plain": [
       "'s3a://udacity-dend/song_data/A/A/A/*.json'"
      ]
     },
     "execution_count": 8,
     "metadata": {},
     "output_type": "execute_result"
    }
   ],
   "source": [
    "# path of data\n",
    "input_data = \"s3a://udacity-dend/\"\n",
    "song_data = os.path.join(input_data, 'song_data/A/A/A/*.json')\n",
    "song_data"
   ]
  },
  {
   "cell_type": "markdown",
   "metadata": {
    "editable": true
   },
   "source": [
    "# Create dataframe"
   ]
  },
  {
   "cell_type": "code",
   "execution_count": 9,
   "metadata": {
    "editable": true
   },
   "outputs": [
    {
     "name": "stdout",
     "output_type": "stream",
     "text": [
      "CPU times: user 512 µs, sys: 7.42 ms, total: 7.93 ms\n",
      "Wall time: 17.7 s\n"
     ]
    }
   ],
   "source": [
    "%%time\n",
    "song_df = spark.read.json(song_data)"
   ]
  },
  {
   "cell_type": "code",
   "execution_count": 10,
   "metadata": {
    "editable": true
   },
   "outputs": [
    {
     "name": "stdout",
     "output_type": "stream",
     "text": [
      "root\n",
      " |-- artist_id: string (nullable = true)\n",
      " |-- artist_latitude: double (nullable = true)\n",
      " |-- artist_location: string (nullable = true)\n",
      " |-- artist_longitude: double (nullable = true)\n",
      " |-- artist_name: string (nullable = true)\n",
      " |-- duration: double (nullable = true)\n",
      " |-- num_songs: long (nullable = true)\n",
      " |-- song_id: string (nullable = true)\n",
      " |-- title: string (nullable = true)\n",
      " |-- year: long (nullable = true)\n",
      "\n"
     ]
    }
   ],
   "source": [
    "song_df.printSchema()"
   ]
  },
  {
   "cell_type": "code",
   "execution_count": 11,
   "metadata": {
    "editable": true
   },
   "outputs": [
    {
     "data": {
      "text/html": [
       "<table border='1'>\n",
       "<tr><th>artist_id</th><th>artist_latitude</th><th>artist_location</th><th>artist_longitude</th><th>artist_name</th><th>duration</th><th>num_songs</th><th>song_id</th><th>title</th><th>year</th></tr>\n",
       "<tr><td>ARTC1LV1187B9A4858</td><td>51.4536</td><td>Goldsmith's Colle...</td><td>-0.01802</td><td>The Bonzo Dog Band</td><td>301.40036</td><td>1</td><td>SOAFBCP12A8C13CC7D</td><td>King Of Scurf (20...</td><td>1972</td></tr>\n",
       "<tr><td>ARA23XO1187B9AF18F</td><td>40.57885</td><td>Carteret, New Jersey</td><td>-74.21956</td><td>The Smithereens</td><td>192.522</td><td>1</td><td>SOKTJDS12AF72A25E5</td><td>Drown In My Own T...</td><td>0</td></tr>\n",
       "<tr><td>ARSVTNL1187B992A91</td><td>51.50632</td><td>London, England</td><td>-0.12714</td><td>Jonathan King</td><td>129.85424</td><td>1</td><td>SOEKAZG12AB018837E</td><td>I'll Slap Your Fa...</td><td>2001</td></tr>\n",
       "<tr><td>AR73AIO1187B9AD57B</td><td>37.77916</td><td>San Francisco, CA</td><td>-122.42005</td><td>Western Addiction</td><td>118.07302</td><td>1</td><td>SOQPWCR12A6D4FB2A3</td><td>A Poor Recipe For...</td><td>2005</td></tr>\n",
       "<tr><td>ARXQBR11187B98A2CC</td><td>null</td><td>Liverpool, England</td><td>null</td><td>Frankie Goes To H...</td><td>821.05424</td><td>1</td><td>SOBRKGM12A8C139EF6</td><td>Welcome to the Pl...</td><td>1985</td></tr>\n",
       "<tr><td>ARSZ7L31187FB4E610</td><td>39.74001</td><td>Denver, CO</td><td>-104.99226</td><td>Devotchka</td><td>337.81506</td><td>1</td><td>SORRNOC12AB017F52B</td><td>The Last Beat Of ...</td><td>2004</td></tr>\n",
       "<tr><td>AR10USD1187B99F3F1</td><td>null</td><td>Burlington, Ontar...</td><td>null</td><td>Tweeterfriendly M...</td><td>189.57016</td><td>1</td><td>SOHKNRJ12A6701D1F8</td><td>Drop of Rain</td><td>0</td></tr>\n",
       "<tr><td>ARZ5H0P1187B98A1DD</td><td>33.76672</td><td>Long Beach, CA</td><td>-118.1924</td><td>Snoop Dogg</td><td>230.42567</td><td>1</td><td>SOAPERH12A58A787DC</td><td>The One And Only ...</td><td>0</td></tr>\n",
       "<tr><td>AR1KTV21187B9ACD72</td><td>34.05349</td><td>California - LA</td><td>-118.24532</td><td>Cristina</td><td>343.87546</td><td>1</td><td>SOSMJFC12A8C13DE0C</td><td>Is That All There...</td><td>0</td></tr>\n",
       "<tr><td>ARCLYBR1187FB53913</td><td>37.54703</td><td>San Mateo, CA</td><td>-122.31483</td><td>Neal Schon</td><td>304.56118</td><td>1</td><td>SOOVHYF12A8C134892</td><td>I'll Be Waiting</td><td>1989</td></tr>\n",
       "<tr><td>ARBZIN01187FB362CC</td><td>1.32026</td><td>27</td><td>103.78871</td><td>Paris Hilton</td><td>192.28689</td><td>1</td><td>SOERIDA12A6D4F8506</td><td>I Want You (Album...</td><td>2006</td></tr>\n",
       "<tr><td>AR5LMPY1187FB573FE</td><td>41.88415</td><td>Chicago, IL</td><td>-87.63241</td><td>Chaka Khan_ Rufus</td><td>258.89914</td><td>1</td><td>SOABWAP12A8C13F82A</td><td>Take Time</td><td>1978</td></tr>\n",
       "<tr><td>ARY589G1187B9A9F4E</td><td>45.51179</td><td>Portland, OR</td><td>-122.67563</td><td>Talkdemonic</td><td>171.57179</td><td>1</td><td>SOIGHOD12A8C13B5A1</td><td>Indian Angel</td><td>2004</td></tr>\n",
       "<tr><td>ARGE7G11187FB37E05</td><td>null</td><td>Brooklyn, NY</td><td>null</td><td>Cyndi Lauper</td><td>240.63955</td><td>1</td><td>SONRWUU12AF72A4283</td><td>Into The Nightlife</td><td>2008</td></tr>\n",
       "<tr><td>ARMJAGH1187FB546F3</td><td>35.14968</td><td>Memphis, TN</td><td>-90.04892</td><td>The Box Tops</td><td>148.03546</td><td>1</td><td>SOCIWDW12A8C13D406</td><td>Soul Deep</td><td>1969</td></tr>\n",
       "<tr><td>AR0MWD61187B9B2B12</td><td>null</td><td></td><td>null</td><td>International Noi...</td><td>195.39546</td><td>1</td><td>SOHOZBI12A8C132E3C</td><td>Smash It Up</td><td>2000</td></tr>\n",
       "<tr><td>AR1C2IX1187B99BF74</td><td>null</td><td></td><td>null</td><td>Broken Spindles</td><td>177.99791</td><td>1</td><td>SODZYPO12A8C13A91E</td><td>Burn My Body (Alb...</td><td>0</td></tr>\n",
       "<tr><td>AR9Q9YC1187FB5609B</td><td>null</td><td>New Jersey</td><td>null</td><td>Quest_ Pup_ Kevo</td><td>252.94322</td><td>1</td><td>SOFRDWL12A58A7CEF7</td><td>Hit Da Scene</td><td>0</td></tr>\n",
       "<tr><td>ARKYKXP11F50C47A6A</td><td>null</td><td></td><td>null</td><td>The Supersuckers</td><td>160.20853</td><td>1</td><td>SONQPZK12AB0182D84</td><td>Double Wide</td><td>0</td></tr>\n",
       "<tr><td>ARC1IHZ1187FB4E920</td><td>null</td><td></td><td>null</td><td>Jamie Cullum</td><td>246.9873</td><td>1</td><td>SOXZYWX12A6310ED0C</td><td>It's About Time</td><td>0</td></tr>\n",
       "</table>\n",
       "only showing top 20 rows\n"
      ],
      "text/plain": [
       "+------------------+---------------+--------------------+----------------+--------------------+---------+---------+------------------+--------------------+----+\n",
       "|         artist_id|artist_latitude|     artist_location|artist_longitude|         artist_name| duration|num_songs|           song_id|               title|year|\n",
       "+------------------+---------------+--------------------+----------------+--------------------+---------+---------+------------------+--------------------+----+\n",
       "|ARTC1LV1187B9A4858|        51.4536|Goldsmith's Colle...|        -0.01802|  The Bonzo Dog Band|301.40036|        1|SOAFBCP12A8C13CC7D|King Of Scurf (20...|1972|\n",
       "|ARA23XO1187B9AF18F|       40.57885|Carteret, New Jersey|       -74.21956|     The Smithereens|  192.522|        1|SOKTJDS12AF72A25E5|Drown In My Own T...|   0|\n",
       "|ARSVTNL1187B992A91|       51.50632|     London, England|        -0.12714|       Jonathan King|129.85424|        1|SOEKAZG12AB018837E|I'll Slap Your Fa...|2001|\n",
       "|AR73AIO1187B9AD57B|       37.77916|   San Francisco, CA|      -122.42005|   Western Addiction|118.07302|        1|SOQPWCR12A6D4FB2A3|A Poor Recipe For...|2005|\n",
       "|ARXQBR11187B98A2CC|           null|  Liverpool, England|            null|Frankie Goes To H...|821.05424|        1|SOBRKGM12A8C139EF6|Welcome to the Pl...|1985|\n",
       "|ARSZ7L31187FB4E610|       39.74001|          Denver, CO|      -104.99226|           Devotchka|337.81506|        1|SORRNOC12AB017F52B|The Last Beat Of ...|2004|\n",
       "|AR10USD1187B99F3F1|           null|Burlington, Ontar...|            null|Tweeterfriendly M...|189.57016|        1|SOHKNRJ12A6701D1F8|        Drop of Rain|   0|\n",
       "|ARZ5H0P1187B98A1DD|       33.76672|      Long Beach, CA|       -118.1924|          Snoop Dogg|230.42567|        1|SOAPERH12A58A787DC|The One And Only ...|   0|\n",
       "|AR1KTV21187B9ACD72|       34.05349|     California - LA|      -118.24532|            Cristina|343.87546|        1|SOSMJFC12A8C13DE0C|Is That All There...|   0|\n",
       "|ARCLYBR1187FB53913|       37.54703|       San Mateo, CA|      -122.31483|          Neal Schon|304.56118|        1|SOOVHYF12A8C134892|     I'll Be Waiting|1989|\n",
       "|ARBZIN01187FB362CC|        1.32026|                  27|       103.78871|        Paris Hilton|192.28689|        1|SOERIDA12A6D4F8506|I Want You (Album...|2006|\n",
       "|AR5LMPY1187FB573FE|       41.88415|         Chicago, IL|       -87.63241|   Chaka Khan_ Rufus|258.89914|        1|SOABWAP12A8C13F82A|           Take Time|1978|\n",
       "|ARY589G1187B9A9F4E|       45.51179|        Portland, OR|      -122.67563|         Talkdemonic|171.57179|        1|SOIGHOD12A8C13B5A1|        Indian Angel|2004|\n",
       "|ARGE7G11187FB37E05|           null|        Brooklyn, NY|            null|        Cyndi Lauper|240.63955|        1|SONRWUU12AF72A4283|  Into The Nightlife|2008|\n",
       "|ARMJAGH1187FB546F3|       35.14968|         Memphis, TN|       -90.04892|        The Box Tops|148.03546|        1|SOCIWDW12A8C13D406|           Soul Deep|1969|\n",
       "|AR0MWD61187B9B2B12|           null|                    |            null|International Noi...|195.39546|        1|SOHOZBI12A8C132E3C|         Smash It Up|2000|\n",
       "|AR1C2IX1187B99BF74|           null|                    |            null|     Broken Spindles|177.99791|        1|SODZYPO12A8C13A91E|Burn My Body (Alb...|   0|\n",
       "|AR9Q9YC1187FB5609B|           null|          New Jersey|            null|    Quest_ Pup_ Kevo|252.94322|        1|SOFRDWL12A58A7CEF7|        Hit Da Scene|   0|\n",
       "|ARKYKXP11F50C47A6A|           null|                    |            null|    The Supersuckers|160.20853|        1|SONQPZK12AB0182D84|         Double Wide|   0|\n",
       "|ARC1IHZ1187FB4E920|           null|                    |            null|        Jamie Cullum| 246.9873|        1|SOXZYWX12A6310ED0C|     It's About Time|   0|\n",
       "+------------------+---------------+--------------------+----------------+--------------------+---------+---------+------------------+--------------------+----+\n",
       "only showing top 20 rows"
      ]
     },
     "execution_count": 11,
     "metadata": {},
     "output_type": "execute_result"
    }
   ],
   "source": [
    "song_df"
   ]
  },
  {
   "cell_type": "markdown",
   "metadata": {
    "editable": true
   },
   "source": [
    "--\n",
    "# Create `songs_table`"
   ]
  },
  {
   "cell_type": "code",
   "execution_count": 12,
   "metadata": {
    "editable": true
   },
   "outputs": [
    {
     "data": {
      "text/html": [
       "<table border='1'>\n",
       "<tr><th>song_id</th><th>title</th><th>artist_id</th><th>year</th><th>duration</th></tr>\n",
       "<tr><td>SODZYPO12A8C13A91E</td><td>Burn My Body (Alb...</td><td>AR1C2IX1187B99BF74</td><td>0</td><td>177.99791</td></tr>\n",
       "<tr><td>SOIGHOD12A8C13B5A1</td><td>Indian Angel</td><td>ARY589G1187B9A9F4E</td><td>2004</td><td>171.57179</td></tr>\n",
       "<tr><td>SOOVHYF12A8C134892</td><td>I'll Be Waiting</td><td>ARCLYBR1187FB53913</td><td>1989</td><td>304.56118</td></tr>\n",
       "<tr><td>SOAPERH12A58A787DC</td><td>The One And Only ...</td><td>ARZ5H0P1187B98A1DD</td><td>0</td><td>230.42567</td></tr>\n",
       "<tr><td>SOHKNRJ12A6701D1F8</td><td>Drop of Rain</td><td>AR10USD1187B99F3F1</td><td>0</td><td>189.57016</td></tr>\n",
       "<tr><td>SOHOZBI12A8C132E3C</td><td>Smash It Up</td><td>AR0MWD61187B9B2B12</td><td>2000</td><td>195.39546</td></tr>\n",
       "<tr><td>SOERIDA12A6D4F8506</td><td>I Want You (Album...</td><td>ARBZIN01187FB362CC</td><td>2006</td><td>192.28689</td></tr>\n",
       "<tr><td>SOXZYWX12A6310ED0C</td><td>It's About Time</td><td>ARC1IHZ1187FB4E920</td><td>0</td><td>246.9873</td></tr>\n",
       "<tr><td>SOBLFFE12AF72AA5BA</td><td>Scream</td><td>ARJNIUY12298900C91</td><td>2009</td><td>213.9424</td></tr>\n",
       "<tr><td>SOTAZDY12AB0187616</td><td>Drillbit</td><td>ARZKCQM1257509D107</td><td>0</td><td>374.62159</td></tr>\n",
       "<tr><td>SOQPWCR12A6D4FB2A3</td><td>A Poor Recipe For...</td><td>AR73AIO1187B9AD57B</td><td>2005</td><td>118.07302</td></tr>\n",
       "<tr><td>SONQPZK12AB0182D84</td><td>Double Wide</td><td>ARKYKXP11F50C47A6A</td><td>0</td><td>160.20853</td></tr>\n",
       "<tr><td>SOKTJDS12AF72A25E5</td><td>Drown In My Own T...</td><td>ARA23XO1187B9AF18F</td><td>0</td><td>192.522</td></tr>\n",
       "<tr><td>SOBRKGM12A8C139EF6</td><td>Welcome to the Pl...</td><td>ARXQBR11187B98A2CC</td><td>1985</td><td>821.05424</td></tr>\n",
       "<tr><td>SOAFBCP12A8C13CC7D</td><td>King Of Scurf (20...</td><td>ARTC1LV1187B9A4858</td><td>1972</td><td>301.40036</td></tr>\n",
       "<tr><td>SOSMJFC12A8C13DE0C</td><td>Is That All There...</td><td>AR1KTV21187B9ACD72</td><td>0</td><td>343.87546</td></tr>\n",
       "<tr><td>SOFRDWL12A58A7CEF7</td><td>Hit Da Scene</td><td>AR9Q9YC1187FB5609B</td><td>0</td><td>252.94322</td></tr>\n",
       "<tr><td>SORRNOC12AB017F52B</td><td>The Last Beat Of ...</td><td>ARSZ7L31187FB4E610</td><td>2004</td><td>337.81506</td></tr>\n",
       "<tr><td>SOCIWDW12A8C13D406</td><td>Soul Deep</td><td>ARMJAGH1187FB546F3</td><td>1969</td><td>148.03546</td></tr>\n",
       "<tr><td>SOFSOCN12A8C143F5D</td><td>Face the Ashes</td><td>ARXR32B1187FB57099</td><td>2007</td><td>209.60608</td></tr>\n",
       "</table>\n",
       "only showing top 20 rows\n"
      ],
      "text/plain": [
       "+------------------+--------------------+------------------+----+---------+\n",
       "|           song_id|               title|         artist_id|year| duration|\n",
       "+------------------+--------------------+------------------+----+---------+\n",
       "|SODZYPO12A8C13A91E|Burn My Body (Alb...|AR1C2IX1187B99BF74|   0|177.99791|\n",
       "|SOIGHOD12A8C13B5A1|        Indian Angel|ARY589G1187B9A9F4E|2004|171.57179|\n",
       "|SOOVHYF12A8C134892|     I'll Be Waiting|ARCLYBR1187FB53913|1989|304.56118|\n",
       "|SOAPERH12A58A787DC|The One And Only ...|ARZ5H0P1187B98A1DD|   0|230.42567|\n",
       "|SOHKNRJ12A6701D1F8|        Drop of Rain|AR10USD1187B99F3F1|   0|189.57016|\n",
       "|SOHOZBI12A8C132E3C|         Smash It Up|AR0MWD61187B9B2B12|2000|195.39546|\n",
       "|SOERIDA12A6D4F8506|I Want You (Album...|ARBZIN01187FB362CC|2006|192.28689|\n",
       "|SOXZYWX12A6310ED0C|     It's About Time|ARC1IHZ1187FB4E920|   0| 246.9873|\n",
       "|SOBLFFE12AF72AA5BA|              Scream|ARJNIUY12298900C91|2009| 213.9424|\n",
       "|SOTAZDY12AB0187616|            Drillbit|ARZKCQM1257509D107|   0|374.62159|\n",
       "|SOQPWCR12A6D4FB2A3|A Poor Recipe For...|AR73AIO1187B9AD57B|2005|118.07302|\n",
       "|SONQPZK12AB0182D84|         Double Wide|ARKYKXP11F50C47A6A|   0|160.20853|\n",
       "|SOKTJDS12AF72A25E5|Drown In My Own T...|ARA23XO1187B9AF18F|   0|  192.522|\n",
       "|SOBRKGM12A8C139EF6|Welcome to the Pl...|ARXQBR11187B98A2CC|1985|821.05424|\n",
       "|SOAFBCP12A8C13CC7D|King Of Scurf (20...|ARTC1LV1187B9A4858|1972|301.40036|\n",
       "|SOSMJFC12A8C13DE0C|Is That All There...|AR1KTV21187B9ACD72|   0|343.87546|\n",
       "|SOFRDWL12A58A7CEF7|        Hit Da Scene|AR9Q9YC1187FB5609B|   0|252.94322|\n",
       "|SORRNOC12AB017F52B|The Last Beat Of ...|ARSZ7L31187FB4E610|2004|337.81506|\n",
       "|SOCIWDW12A8C13D406|           Soul Deep|ARMJAGH1187FB546F3|1969|148.03546|\n",
       "|SOFSOCN12A8C143F5D|      Face the Ashes|ARXR32B1187FB57099|2007|209.60608|\n",
       "+------------------+--------------------+------------------+----+---------+\n",
       "only showing top 20 rows"
      ]
     },
     "execution_count": 12,
     "metadata": {},
     "output_type": "execute_result"
    }
   ],
   "source": [
    "songs_table = song_df.select(\"song_id\",\"title\",\"artist_id\",\"year\",\"duration\").drop_duplicates()\n",
    "songs_table"
   ]
  },
  {
   "cell_type": "markdown",
   "metadata": {
    "editable": true
   },
   "source": [
    "# Save song_table\n",
    "```bash\n",
    "CPU times: user 72.6 ms, sys: 21.6 ms, total: 94.3 ms\n",
    "Wall time: 6min 7s\n",
    "```"
   ]
  },
  {
   "cell_type": "code",
   "execution_count": 18,
   "metadata": {
    "editable": true
   },
   "outputs": [
    {
     "name": "stdout",
     "output_type": "stream",
     "text": [
      "CPU times: user 72.6 ms, sys: 21.6 ms, total: 94.3 ms\n",
      "Wall time: 6min 7s\n"
     ]
    }
   ],
   "source": [
    "%%time\n",
    "songs_table.write.parquet(output_data + \"songs/\", mode=\"overwrite\", partitionBy=[\"year\",\"artist_id\"])"
   ]
  },
  {
   "cell_type": "markdown",
   "metadata": {
    "editable": true
   },
   "source": [
    "---\n",
    "# Create `artists_table`"
   ]
  },
  {
   "cell_type": "code",
   "execution_count": 16,
   "metadata": {
    "editable": true
   },
   "outputs": [
    {
     "data": {
      "text/html": [
       "<table border='1'>\n",
       "<tr><th>artist_id</th><th>artist_name</th><th>artist_location</th><th>artist_latitude</th><th>artist_longitude</th></tr>\n",
       "<tr><td>ARC1IHZ1187FB4E920</td><td>Jamie Cullum</td><td></td><td>null</td><td>null</td></tr>\n",
       "<tr><td>ARZKCQM1257509D107</td><td>Dataphiles</td><td></td><td>null</td><td>null</td></tr>\n",
       "<tr><td>AREWD471187FB49873</td><td>Son Kite</td><td></td><td>null</td><td>null</td></tr>\n",
       "<tr><td>ARGE7G11187FB37E05</td><td>Cyndi Lauper</td><td>Brooklyn, NY</td><td>null</td><td>null</td></tr>\n",
       "<tr><td>ARSVTNL1187B992A91</td><td>Jonathan King</td><td>London, England</td><td>51.50632</td><td>-0.12714</td></tr>\n",
       "<tr><td>AR9Q9YC1187FB5609B</td><td>Quest_ Pup_ Kevo</td><td>New Jersey</td><td>null</td><td>null</td></tr>\n",
       "<tr><td>AR73AIO1187B9AD57B</td><td>Western Addiction</td><td>San Francisco, CA</td><td>37.77916</td><td>-122.42005</td></tr>\n",
       "<tr><td>AR0MWD61187B9B2B12</td><td>International Noi...</td><td></td><td>null</td><td>null</td></tr>\n",
       "<tr><td>ARMJAGH1187FB546F3</td><td>The Box Tops</td><td>Memphis, TN</td><td>35.14968</td><td>-90.04892</td></tr>\n",
       "<tr><td>AR1KTV21187B9ACD72</td><td>Cristina</td><td>California - LA</td><td>34.05349</td><td>-118.24532</td></tr>\n",
       "<tr><td>AR5LMPY1187FB573FE</td><td>Chaka Khan_ Rufus</td><td>Chicago, IL</td><td>41.88415</td><td>-87.63241</td></tr>\n",
       "<tr><td>ARXR32B1187FB57099</td><td>Gob</td><td></td><td>null</td><td>null</td></tr>\n",
       "<tr><td>AR1C2IX1187B99BF74</td><td>Broken Spindles</td><td></td><td>null</td><td>null</td></tr>\n",
       "<tr><td>ARA23XO1187B9AF18F</td><td>The Smithereens</td><td>Carteret, New Jersey</td><td>40.57885</td><td>-74.21956</td></tr>\n",
       "<tr><td>ARZ5H0P1187B98A1DD</td><td>Snoop Dogg</td><td>Long Beach, CA</td><td>33.76672</td><td>-118.1924</td></tr>\n",
       "<tr><td>ARJNIUY12298900C91</td><td>Adelitas Way</td><td></td><td>null</td><td>null</td></tr>\n",
       "<tr><td>ARTC1LV1187B9A4858</td><td>The Bonzo Dog Band</td><td>Goldsmith's Colle...</td><td>51.4536</td><td>-0.01802</td></tr>\n",
       "<tr><td>ARBZIN01187FB362CC</td><td>Paris Hilton</td><td>27</td><td>1.32026</td><td>103.78871</td></tr>\n",
       "<tr><td>ARSZ7L31187FB4E610</td><td>Devotchka</td><td>Denver, CO</td><td>39.74001</td><td>-104.99226</td></tr>\n",
       "<tr><td>ARXQBR11187B98A2CC</td><td>Frankie Goes To H...</td><td>Liverpool, England</td><td>null</td><td>null</td></tr>\n",
       "</table>\n",
       "only showing top 20 rows\n"
      ],
      "text/plain": [
       "+------------------+--------------------+--------------------+---------------+----------------+\n",
       "|         artist_id|         artist_name|     artist_location|artist_latitude|artist_longitude|\n",
       "+------------------+--------------------+--------------------+---------------+----------------+\n",
       "|ARC1IHZ1187FB4E920|        Jamie Cullum|                    |           null|            null|\n",
       "|ARZKCQM1257509D107|          Dataphiles|                    |           null|            null|\n",
       "|AREWD471187FB49873|            Son Kite|                    |           null|            null|\n",
       "|ARGE7G11187FB37E05|        Cyndi Lauper|        Brooklyn, NY|           null|            null|\n",
       "|ARSVTNL1187B992A91|       Jonathan King|     London, England|       51.50632|        -0.12714|\n",
       "|AR9Q9YC1187FB5609B|    Quest_ Pup_ Kevo|          New Jersey|           null|            null|\n",
       "|AR73AIO1187B9AD57B|   Western Addiction|   San Francisco, CA|       37.77916|      -122.42005|\n",
       "|AR0MWD61187B9B2B12|International Noi...|                    |           null|            null|\n",
       "|ARMJAGH1187FB546F3|        The Box Tops|         Memphis, TN|       35.14968|       -90.04892|\n",
       "|AR1KTV21187B9ACD72|            Cristina|     California - LA|       34.05349|      -118.24532|\n",
       "|AR5LMPY1187FB573FE|   Chaka Khan_ Rufus|         Chicago, IL|       41.88415|       -87.63241|\n",
       "|ARXR32B1187FB57099|                 Gob|                    |           null|            null|\n",
       "|AR1C2IX1187B99BF74|     Broken Spindles|                    |           null|            null|\n",
       "|ARA23XO1187B9AF18F|     The Smithereens|Carteret, New Jersey|       40.57885|       -74.21956|\n",
       "|ARZ5H0P1187B98A1DD|          Snoop Dogg|      Long Beach, CA|       33.76672|       -118.1924|\n",
       "|ARJNIUY12298900C91|        Adelitas Way|                    |           null|            null|\n",
       "|ARTC1LV1187B9A4858|  The Bonzo Dog Band|Goldsmith's Colle...|        51.4536|        -0.01802|\n",
       "|ARBZIN01187FB362CC|        Paris Hilton|                  27|        1.32026|       103.78871|\n",
       "|ARSZ7L31187FB4E610|           Devotchka|          Denver, CO|       39.74001|      -104.99226|\n",
       "|ARXQBR11187B98A2CC|Frankie Goes To H...|  Liverpool, England|           null|            null|\n",
       "+------------------+--------------------+--------------------+---------------+----------------+\n",
       "only showing top 20 rows"
      ]
     },
     "execution_count": 16,
     "metadata": {},
     "output_type": "execute_result"
    }
   ],
   "source": [
    "artists_table = song_df.select(\"artist_id\",\"artist_name\",\"artist_location\",\"artist_latitude\",\"artist_longitude\").drop_duplicates()\n",
    "artists_table"
   ]
  },
  {
   "cell_type": "markdown",
   "metadata": {
    "editable": true
   },
   "source": [
    "# Save artist_Table\n",
    "```bash\n",
    "CPU times: user 58.3 ms, sys: 22.4 ms, total: 80.7 ms\n",
    "Wall time: 5min 38s\n",
    "```"
   ]
  },
  {
   "cell_type": "code",
   "execution_count": 17,
   "metadata": {
    "editable": true
   },
   "outputs": [
    {
     "name": "stderr",
     "output_type": "stream",
     "text": [
      "0it [00:00, ?it/s]"
     ]
    },
    {
     "name": "stdout",
     "output_type": "stream",
     "text": [
      "CPU times: user 58.3 ms, sys: 22.4 ms, total: 80.7 ms\n",
      "Wall time: 5min 38s\n"
     ]
    },
    {
     "data": {
      "text/plain": [
       "0it [00:00, ?it/s]"
      ]
     },
     "execution_count": 17,
     "metadata": {},
     "output_type": "execute_result"
    }
   ],
   "source": [
    "%%time\n",
    "artists_table.write.parquet(output_data + \"artists/\", mode=\"overwrite\")"
   ]
  },
  {
   "cell_type": "code",
   "execution_count": null,
   "metadata": {
    "editable": true
   },
   "outputs": [],
   "source": []
  }
 ],
 "metadata": {
  "kernelspec": {
   "display_name": "Python 3",
   "language": "python",
   "name": "python3"
  },
  "language_info": {
   "codemirror_mode": {
    "name": "ipython",
    "version": 3
   },
   "file_extension": ".py",
   "mimetype": "text/x-python",
   "name": "python",
   "nbconvert_exporter": "python",
   "pygments_lexer": "ipython3",
   "version": "3.6.3"
  }
 },
 "nbformat": 4,
 "nbformat_minor": 4
}
